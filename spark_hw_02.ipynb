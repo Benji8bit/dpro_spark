{
  "cells": [
    {
      "cell_type": "markdown",
      "metadata": {
        "id": "view-in-github",
        "colab_type": "text"
      },
      "source": [
        "<a href=\"https://colab.research.google.com/github/Benji8bit/dpro_spark/blob/main/spark_hw_02.ipynb\" target=\"_parent\"><img src=\"https://colab.research.google.com/assets/colab-badge.svg\" alt=\"Open In Colab\"/></a>"
      ]
    },
    {
      "cell_type": "markdown",
      "metadata": {
        "id": "e7hFASkVb-Hs"
      },
      "source": [
        "###Шаг 1: Импорт необходимых библиотек и создание Spark Session"
      ]
    },
    {
      "cell_type": "code",
      "execution_count": null,
      "metadata": {
        "colab": {
          "base_uri": "https://localhost:8080/"
        },
        "id": "uspOEcCkcIMV",
        "outputId": "6cdb0a3f-b612-43b7-97fa-74919eddc33d"
      },
      "outputs": [
        {
          "output_type": "stream",
          "name": "stdout",
          "text": [
            "Requirement already satisfied: pyspark in /usr/local/lib/python3.10/dist-packages (3.5.3)\n",
            "Requirement already satisfied: py4j==0.10.9.7 in /usr/local/lib/python3.10/dist-packages (from pyspark) (0.10.9.7)\n"
          ]
        }
      ],
      "source": [
        "pip install pyspark"
      ]
    },
    {
      "cell_type": "code",
      "execution_count": null,
      "metadata": {
        "id": "j0ruZxEpb_NU"
      },
      "outputs": [],
      "source": [
        "from pyspark.sql import SparkSession\n",
        "from pyspark.sql.functions import col, lit, sum, datediff, to_date, when\n",
        "\n",
        "# Создаем Spark Session\n",
        "spark = SparkSession.builder.appName(\"COVID-19 Analysis\").getOrCreate()"
      ]
    },
    {
      "cell_type": "markdown",
      "metadata": {
        "id": "ls05cTnKceKC"
      },
      "source": [
        "### Шаг 2: Загрузка данных\n",
        "У нас есть CSV-файл с данными о COVID-19. Загрузим его в DataFrame:"
      ]
    },
    {
      "cell_type": "code",
      "execution_count": null,
      "metadata": {
        "id": "5N0WZl5CcirK"
      },
      "outputs": [],
      "source": [
        "# Файл называется 'covid-data.csv' и находится в той же директории\n",
        "df = spark.read.csv('covid-data.csv', header=True, inferSchema=True)"
      ]
    },
    {
      "cell_type": "code",
      "execution_count": null,
      "metadata": {
        "colab": {
          "base_uri": "https://localhost:8080/"
        },
        "id": "zToLcepLk1W_",
        "outputId": "69c480e0-2f8b-497b-a680-83919f63af5b"
      },
      "outputs": [
        {
          "output_type": "stream",
          "name": "stdout",
          "text": [
            "+--------+---------+-----------+----------+-----------+---------+------------------+------------+----------+-------------------+-----------------------+---------------------+------------------------------+------------------------+----------------------+-------------------------------+-----------------+------------+------------------------+-------------+-------------------------+---------------------+---------------------------------+----------------------+----------------------------------+---------+-----------+------------------------+----------------------+------------------+-------------------------------+-------------+--------------+-----------+------------------+-----------------+-----------------------+----------------+-------------------------+------------------------------+-----------------------------+-----------------------------------+-------------------------------------+----------------+-----------+------------------+----------+-------------+-------------+--------------+---------------+---------------------+-------------------+--------------+------------+----------------------+--------------------------+---------------+-----------------------+\n",
            "|iso_code|continent|   location|      date|total_cases|new_cases|new_cases_smoothed|total_deaths|new_deaths|new_deaths_smoothed|total_cases_per_million|new_cases_per_million|new_cases_smoothed_per_million|total_deaths_per_million|new_deaths_per_million|new_deaths_smoothed_per_million|reproduction_rate|icu_patients|icu_patients_per_million|hosp_patients|hosp_patients_per_million|weekly_icu_admissions|weekly_icu_admissions_per_million|weekly_hosp_admissions|weekly_hosp_admissions_per_million|new_tests|total_tests|total_tests_per_thousand|new_tests_per_thousand|new_tests_smoothed|new_tests_smoothed_per_thousand|positive_rate|tests_per_case|tests_units|total_vaccinations|people_vaccinated|people_fully_vaccinated|new_vaccinations|new_vaccinations_smoothed|total_vaccinations_per_hundred|people_vaccinated_per_hundred|people_fully_vaccinated_per_hundred|new_vaccinations_smoothed_per_million|stringency_index| population|population_density|median_age|aged_65_older|aged_70_older|gdp_per_capita|extreme_poverty|cardiovasc_death_rate|diabetes_prevalence|female_smokers|male_smokers|handwashing_facilities|hospital_beds_per_thousand|life_expectancy|human_development_index|\n",
            "+--------+---------+-----------+----------+-----------+---------+------------------+------------+----------+-------------------+-----------------------+---------------------+------------------------------+------------------------+----------------------+-------------------------------+-----------------+------------+------------------------+-------------+-------------------------+---------------------+---------------------------------+----------------------+----------------------------------+---------+-----------+------------------------+----------------------+------------------+-------------------------------+-------------+--------------+-----------+------------------+-----------------+-----------------------+----------------+-------------------------+------------------------------+-----------------------------+-----------------------------------+-------------------------------------+----------------+-----------+------------------+----------+-------------+-------------+--------------+---------------+---------------------+-------------------+--------------+------------+----------------------+--------------------------+---------------+-----------------------+\n",
            "|     AFG|     Asia|Afghanistan|2020-02-24|        1.0|      1.0|              NULL|        NULL|      NULL|               NULL|                  0.026|                0.026|                          NULL|                    NULL|                  NULL|                           NULL|             NULL|        NULL|                    NULL|         NULL|                     NULL|                 NULL|                             NULL|                  NULL|                              NULL|     NULL|       NULL|                    NULL|                  NULL|              NULL|                           NULL|         NULL|          NULL|       NULL|              NULL|             NULL|                   NULL|            NULL|                     NULL|                          NULL|                         NULL|                               NULL|                                 NULL|            8.33|3.8928341E7|            54.422|      18.6|        2.581|        1.337|      1803.987|           NULL|              597.029|               9.59|          NULL|        NULL|                37.746|                       0.5|          64.83|                  0.511|\n",
            "|     AFG|     Asia|Afghanistan|2020-02-25|        1.0|      0.0|              NULL|        NULL|      NULL|               NULL|                  0.026|                  0.0|                          NULL|                    NULL|                  NULL|                           NULL|             NULL|        NULL|                    NULL|         NULL|                     NULL|                 NULL|                             NULL|                  NULL|                              NULL|     NULL|       NULL|                    NULL|                  NULL|              NULL|                           NULL|         NULL|          NULL|       NULL|              NULL|             NULL|                   NULL|            NULL|                     NULL|                          NULL|                         NULL|                               NULL|                                 NULL|            8.33|3.8928341E7|            54.422|      18.6|        2.581|        1.337|      1803.987|           NULL|              597.029|               9.59|          NULL|        NULL|                37.746|                       0.5|          64.83|                  0.511|\n",
            "|     AFG|     Asia|Afghanistan|2020-02-26|        1.0|      0.0|              NULL|        NULL|      NULL|               NULL|                  0.026|                  0.0|                          NULL|                    NULL|                  NULL|                           NULL|             NULL|        NULL|                    NULL|         NULL|                     NULL|                 NULL|                             NULL|                  NULL|                              NULL|     NULL|       NULL|                    NULL|                  NULL|              NULL|                           NULL|         NULL|          NULL|       NULL|              NULL|             NULL|                   NULL|            NULL|                     NULL|                          NULL|                         NULL|                               NULL|                                 NULL|            8.33|3.8928341E7|            54.422|      18.6|        2.581|        1.337|      1803.987|           NULL|              597.029|               9.59|          NULL|        NULL|                37.746|                       0.5|          64.83|                  0.511|\n",
            "|     AFG|     Asia|Afghanistan|2020-02-27|        1.0|      0.0|              NULL|        NULL|      NULL|               NULL|                  0.026|                  0.0|                          NULL|                    NULL|                  NULL|                           NULL|             NULL|        NULL|                    NULL|         NULL|                     NULL|                 NULL|                             NULL|                  NULL|                              NULL|     NULL|       NULL|                    NULL|                  NULL|              NULL|                           NULL|         NULL|          NULL|       NULL|              NULL|             NULL|                   NULL|            NULL|                     NULL|                          NULL|                         NULL|                               NULL|                                 NULL|            8.33|3.8928341E7|            54.422|      18.6|        2.581|        1.337|      1803.987|           NULL|              597.029|               9.59|          NULL|        NULL|                37.746|                       0.5|          64.83|                  0.511|\n",
            "|     AFG|     Asia|Afghanistan|2020-02-28|        1.0|      0.0|              NULL|        NULL|      NULL|               NULL|                  0.026|                  0.0|                          NULL|                    NULL|                  NULL|                           NULL|             NULL|        NULL|                    NULL|         NULL|                     NULL|                 NULL|                             NULL|                  NULL|                              NULL|     NULL|       NULL|                    NULL|                  NULL|              NULL|                           NULL|         NULL|          NULL|       NULL|              NULL|             NULL|                   NULL|            NULL|                     NULL|                          NULL|                         NULL|                               NULL|                                 NULL|            8.33|3.8928341E7|            54.422|      18.6|        2.581|        1.337|      1803.987|           NULL|              597.029|               9.59|          NULL|        NULL|                37.746|                       0.5|          64.83|                  0.511|\n",
            "+--------+---------+-----------+----------+-----------+---------+------------------+------------+----------+-------------------+-----------------------+---------------------+------------------------------+------------------------+----------------------+-------------------------------+-----------------+------------+------------------------+-------------+-------------------------+---------------------+---------------------------------+----------------------+----------------------------------+---------+-----------+------------------------+----------------------+------------------+-------------------------------+-------------+--------------+-----------+------------------+-----------------+-----------------------+----------------+-------------------------+------------------------------+-----------------------------+-----------------------------------+-------------------------------------+----------------+-----------+------------------+----------+-------------+-------------+--------------+---------------+---------------------+-------------------+--------------+------------+----------------------+--------------------------+---------------+-----------------------+\n",
            "only showing top 5 rows\n",
            "\n"
          ]
        }
      ],
      "source": [
        "df.show(5)"
      ]
    },
    {
      "cell_type": "code",
      "execution_count": null,
      "metadata": {
        "collapsed": true,
        "id": "KznBbveGqRkE",
        "outputId": "54180146-787f-4ea7-af4a-005c7e7884f2",
        "colab": {
          "base_uri": "https://localhost:8080/"
        }
      },
      "outputs": [
        {
          "output_type": "stream",
          "name": "stdout",
          "text": [
            "root\n",
            " |-- iso_code: string (nullable = true)\n",
            " |-- continent: string (nullable = true)\n",
            " |-- location: string (nullable = true)\n",
            " |-- date: date (nullable = true)\n",
            " |-- total_cases: double (nullable = true)\n",
            " |-- new_cases: double (nullable = true)\n",
            " |-- new_cases_smoothed: double (nullable = true)\n",
            " |-- total_deaths: double (nullable = true)\n",
            " |-- new_deaths: double (nullable = true)\n",
            " |-- new_deaths_smoothed: double (nullable = true)\n",
            " |-- total_cases_per_million: double (nullable = true)\n",
            " |-- new_cases_per_million: double (nullable = true)\n",
            " |-- new_cases_smoothed_per_million: double (nullable = true)\n",
            " |-- total_deaths_per_million: double (nullable = true)\n",
            " |-- new_deaths_per_million: double (nullable = true)\n",
            " |-- new_deaths_smoothed_per_million: double (nullable = true)\n",
            " |-- reproduction_rate: double (nullable = true)\n",
            " |-- icu_patients: double (nullable = true)\n",
            " |-- icu_patients_per_million: double (nullable = true)\n",
            " |-- hosp_patients: double (nullable = true)\n",
            " |-- hosp_patients_per_million: double (nullable = true)\n",
            " |-- weekly_icu_admissions: double (nullable = true)\n",
            " |-- weekly_icu_admissions_per_million: double (nullable = true)\n",
            " |-- weekly_hosp_admissions: double (nullable = true)\n",
            " |-- weekly_hosp_admissions_per_million: double (nullable = true)\n",
            " |-- new_tests: double (nullable = true)\n",
            " |-- total_tests: double (nullable = true)\n",
            " |-- total_tests_per_thousand: double (nullable = true)\n",
            " |-- new_tests_per_thousand: double (nullable = true)\n",
            " |-- new_tests_smoothed: double (nullable = true)\n",
            " |-- new_tests_smoothed_per_thousand: double (nullable = true)\n",
            " |-- positive_rate: double (nullable = true)\n",
            " |-- tests_per_case: double (nullable = true)\n",
            " |-- tests_units: string (nullable = true)\n",
            " |-- total_vaccinations: double (nullable = true)\n",
            " |-- people_vaccinated: double (nullable = true)\n",
            " |-- people_fully_vaccinated: double (nullable = true)\n",
            " |-- new_vaccinations: double (nullable = true)\n",
            " |-- new_vaccinations_smoothed: double (nullable = true)\n",
            " |-- total_vaccinations_per_hundred: double (nullable = true)\n",
            " |-- people_vaccinated_per_hundred: double (nullable = true)\n",
            " |-- people_fully_vaccinated_per_hundred: double (nullable = true)\n",
            " |-- new_vaccinations_smoothed_per_million: double (nullable = true)\n",
            " |-- stringency_index: double (nullable = true)\n",
            " |-- population: double (nullable = true)\n",
            " |-- population_density: double (nullable = true)\n",
            " |-- median_age: double (nullable = true)\n",
            " |-- aged_65_older: double (nullable = true)\n",
            " |-- aged_70_older: double (nullable = true)\n",
            " |-- gdp_per_capita: double (nullable = true)\n",
            " |-- extreme_poverty: double (nullable = true)\n",
            " |-- cardiovasc_death_rate: double (nullable = true)\n",
            " |-- diabetes_prevalence: double (nullable = true)\n",
            " |-- female_smokers: double (nullable = true)\n",
            " |-- male_smokers: double (nullable = true)\n",
            " |-- handwashing_facilities: double (nullable = true)\n",
            " |-- hospital_beds_per_thousand: double (nullable = true)\n",
            " |-- life_expectancy: double (nullable = true)\n",
            " |-- human_development_index: double (nullable = true)\n",
            "\n"
          ]
        }
      ],
      "source": [
        "df.printSchema()"
      ]
    },
    {
      "cell_type": "markdown",
      "metadata": {
        "id": "QQrNTYhZjseL"
      },
      "source": [
        "###Шаг 3: Подготовка данных\n",
        "Отфильтруем датасет по дате"
      ]
    },
    {
      "cell_type": "code",
      "execution_count": null,
      "metadata": {
        "colab": {
          "base_uri": "https://localhost:8080/"
        },
        "id": "cM_q-1q0ktA5",
        "outputId": "278b2a3e-a747-45b6-90b9-da5af130aeb3"
      },
      "outputs": [
        {
          "output_type": "execute_result",
          "data": {
            "text/plain": [
              "82289"
            ]
          },
          "metadata": {},
          "execution_count": 9
        }
      ],
      "source": [
        "df.count()"
      ]
    },
    {
      "cell_type": "code",
      "execution_count": null,
      "metadata": {
        "colab": {
          "base_uri": "https://localhost:8080/"
        },
        "id": "rZ7ylkrxk0Ix",
        "outputId": "06d1b88d-3b70-4e6d-fc45-5d966008bb2a"
      },
      "outputs": [
        {
          "output_type": "execute_result",
          "data": {
            "text/plain": [
              "179"
            ]
          },
          "metadata": {},
          "execution_count": 10
        }
      ],
      "source": [
        "filtered_df = df.filter(col(\"date\") == lit(\"2021-03-31\")).filter(\"iso_code NOT LIKE '%OWID%'\")\n",
        "filtered_df.count()"
      ]
    },
    {
      "cell_type": "code",
      "source": [
        "filtered_df.select(\"iso_code\", \"location\", \"date\", \"new_cases\").orderBy(col(\"new_cases\").desc()).show()"
      ],
      "metadata": {
        "colab": {
          "base_uri": "https://localhost:8080/"
        },
        "id": "XU7fLrXiWwaw",
        "outputId": "a1e522ca-3370-443b-d3ce-b393da9c5344"
      },
      "execution_count": null,
      "outputs": [
        {
          "output_type": "stream",
          "name": "stdout",
          "text": [
            "+--------+--------------+----------+---------+\n",
            "|iso_code|      location|      date|new_cases|\n",
            "+--------+--------------+----------+---------+\n",
            "|     USA| United States|2020-03-31|  26314.0|\n",
            "|     ESP|         Spain|2020-03-31|   7967.0|\n",
            "|     FRA|        France|2020-03-31|   7629.0|\n",
            "|     DEU|       Germany|2020-03-31|   4923.0|\n",
            "|     GBR|United Kingdom|2020-03-31|   4534.0|\n",
            "|     ITA|         Italy|2020-03-31|   4053.0|\n",
            "|     IRN|          Iran|2020-03-31|   3110.0|\n",
            "|     TUR|        Turkey|2020-03-31|   2704.0|\n",
            "|     BRA|        Brazil|2020-03-31|   1138.0|\n",
            "|     CAN|        Canada|2020-03-31|   1129.0|\n",
            "|     PRT|      Portugal|2020-03-31|   1035.0|\n",
            "|     BEL|       Belgium|2020-03-31|    876.0|\n",
            "|     NLD|   Netherlands|2020-03-31|    850.0|\n",
            "|     ISR|        Israel|2020-03-31|    738.0|\n",
            "|     CHE|   Switzerland|2020-03-31|    683.0|\n",
            "|     AUT|       Austria|2020-03-31|    562.0|\n",
            "|     PHL|   Philippines|2020-03-31|    538.0|\n",
            "|     RUS|        Russia|2020-03-31|    501.0|\n",
            "|     SWE|        Sweden|2020-03-31|    475.0|\n",
            "|     IRL|       Ireland|2020-03-31|    325.0|\n",
            "+--------+--------------+----------+---------+\n",
            "only showing top 20 rows\n",
            "\n"
          ]
        }
      ]
    },
    {
      "cell_type": "markdown",
      "metadata": {
        "id": "06_FPg0slRAq"
      },
      "source": [
        "###Шаг 4: Выбор 15 стран с наибольшим процентом переболевших"
      ]
    },
    {
      "cell_type": "code",
      "source": [
        "total_cases_top_15_df = filtered_df.sort(filtered_df.total_cases.desc()).limit(15)"
      ],
      "metadata": {
        "id": "8A_AmX1hLKhz"
      },
      "execution_count": null,
      "outputs": []
    },
    {
      "cell_type": "code",
      "source": [
        "total_cases_top_15_df.select(\"iso_code\", \"location\", \"population\", \"total_cases\").show()"
      ],
      "metadata": {
        "colab": {
          "base_uri": "https://localhost:8080/"
        },
        "id": "69LYgjPfMhHA",
        "outputId": "77b98393-e388-4886-e1ee-cedab5b502e3"
      },
      "execution_count": null,
      "outputs": [
        {
          "output_type": "stream",
          "name": "stdout",
          "text": [
            "+--------+--------------+-------------+-----------+\n",
            "|iso_code|      location|   population|total_cases|\n",
            "+--------+--------------+-------------+-----------+\n",
            "|     USA| United States| 3.31002647E8|   192301.0|\n",
            "|     ITA|         Italy|  6.0461828E7|   105792.0|\n",
            "|     ESP|         Spain|  4.6754783E7|    95923.0|\n",
            "|     CHN|         China|1.439323774E9|    82279.0|\n",
            "|     DEU|       Germany|  8.3783945E7|    71808.0|\n",
            "|     FRA|        France|  6.8147687E7|    52278.0|\n",
            "|     IRN|          Iran|  8.3992953E7|    44605.0|\n",
            "|     GBR|United Kingdom|  6.7886004E7|    38815.0|\n",
            "|     CHE|   Switzerland|    8654618.0|    16605.0|\n",
            "|     TUR|        Turkey|  8.4339067E7|    13531.0|\n",
            "|     BEL|       Belgium|  1.1589616E7|    12775.0|\n",
            "|     NLD|   Netherlands|  1.7134873E7|    12667.0|\n",
            "|     AUT|       Austria|    9006400.0|    10180.0|\n",
            "|     KOR|   South Korea|  5.1269183E7|     9786.0|\n",
            "|     CAN|        Canada|  3.7742157E7|     8527.0|\n",
            "+--------+--------------+-------------+-----------+\n",
            "\n"
          ]
        }
      ]
    },
    {
      "cell_type": "code",
      "execution_count": null,
      "metadata": {
        "id": "fTG8asy1xpvk"
      },
      "outputs": [],
      "source": [
        "cases_percent_df = total_cases_top_15_df.withColumn(\"cases_percent\", (total_cases_top_15_df.total_cases * 100)/total_cases_top_15_df.population)"
      ]
    },
    {
      "cell_type": "code",
      "execution_count": null,
      "metadata": {
        "colab": {
          "base_uri": "https://localhost:8080/"
        },
        "id": "ex-HrY6wzJpk",
        "outputId": "6ad5371c-22bb-471d-a6c0-6fa47ed1af2b"
      },
      "outputs": [
        {
          "output_type": "stream",
          "name": "stdout",
          "text": [
            "+--------+--------------+--------------------+\n",
            "|iso_code|      location|       cases_percent|\n",
            "+--------+--------------+--------------------+\n",
            "|     ESP|         Spain| 0.20516189755388234|\n",
            "|     CHE|   Switzerland| 0.19186288753587968|\n",
            "|     ITA|         Italy|  0.1749732078891164|\n",
            "|     AUT|       Austria| 0.11303073370047965|\n",
            "|     BEL|       Belgium| 0.11022798339479065|\n",
            "|     DEU|       Germany| 0.08570615766540952|\n",
            "|     FRA|        France| 0.07671280171255115|\n",
            "|     NLD|   Netherlands| 0.07392526340872209|\n",
            "|     USA| United States|0.058096514255367875|\n",
            "|     GBR|United Kingdom| 0.05717673410265833|\n",
            "|     IRN|          Iran|0.053105645660535356|\n",
            "|     CAN|        Canada|0.022592773380705294|\n",
            "|     KOR|   South Korea|0.019087489652409712|\n",
            "|     TUR|        Turkey|0.016043573258878948|\n",
            "|     CHN|         China|0.005716503922626098|\n",
            "+--------+--------------+--------------------+\n",
            "\n"
          ]
        }
      ],
      "source": [
        "cases_percent_df = cases_percent_df.select(\"iso_code\", \"location\", \"cases_percent\").orderBy(cases_percent_df.cases_percent.desc()).show(15)"
      ]
    },
    {
      "cell_type": "markdown",
      "metadata": {
        "id": "cxOjLAyJGVng"
      },
      "source": [
        "###Шаг 5: Выбор 10 стран с максимальным зафиксированным количеством новых случаев за последнюю неделю марта 2021"
      ]
    },
    {
      "cell_type": "code",
      "execution_count": null,
      "metadata": {
        "id": "Btsu8tYXRzCW"
      },
      "outputs": [],
      "source": [
        "from pyspark.sql.window import Window\n",
        "from pyspark.sql.functions import lag, max"
      ]
    },
    {
      "cell_type": "code",
      "execution_count": null,
      "metadata": {
        "id": "jal4_J8PHMVv",
        "colab": {
          "base_uri": "https://localhost:8080/"
        },
        "outputId": "7006390f-79f8-4e94-c072-e5b425c922e4"
      },
      "outputs": [
        {
          "output_type": "execute_result",
          "data": {
            "text/plain": [
              "1927"
            ]
          },
          "metadata": {},
          "execution_count": 17
        }
      ],
      "source": [
        "# Фильтруем данные за последнюю неделю марта 2021\n",
        "df_march_21 = df.filter((col(\"date\") >= \"2021-03-23\") & (col(\"date\") <= \"2021-03-31\"))\n",
        "df_march_21.count()"
      ]
    },
    {
      "cell_type": "code",
      "source": [
        "# Определение окна, которое делит данные по location\n",
        "window_spec = Window.partitionBy(\"location\")\n",
        "\n",
        "# Добавление новой колонки с максимальным значением в каждой группе\n",
        "df_top_10_locs = df_march_21.withColumn(\"max_new_cases\", max(\"new_cases\").over(window_spec))\n",
        "\n",
        "# Вывод результатов\n",
        "df_top_10_locs = df_top_10_locs.select(\"date\", \"location\", \"max_new_cases\").filter(\"iso_code NOT LIKE '%OWID%'\")\n",
        "# Выше также отфильтровали iso_code 'OWID_', предоставляющий данные в разрезе континентального и мирового масштаба\n",
        "df_top_10_locs = df_top_10_locs.filter(col(\"new_cases\") == col(\"max_new_cases\")).orderBy(df_top_10_locs.max_new_cases.desc())\n",
        "df_top_10_locs.show(10)"
      ],
      "metadata": {
        "colab": {
          "base_uri": "https://localhost:8080/"
        },
        "id": "5SJvP5yWdIfa",
        "outputId": "ddc50528-ddf1-471d-f285-5e14ac82ac3e"
      },
      "execution_count": null,
      "outputs": [
        {
          "output_type": "stream",
          "name": "stdout",
          "text": [
            "+----------+-------------+-------------+\n",
            "|      date|     location|max_new_cases|\n",
            "+----------+-------------+-------------+\n",
            "|2021-03-25|       Brazil|     100158.0|\n",
            "|2021-03-24|United States|      86960.0|\n",
            "|2021-03-31|        India|      72330.0|\n",
            "|2021-03-24|       France|      65392.0|\n",
            "|2021-03-31|       Turkey|      39302.0|\n",
            "|2021-03-26|       Poland|      35145.0|\n",
            "|2021-03-31|      Germany|      25014.0|\n",
            "|2021-03-26|        Italy|      24076.0|\n",
            "|2021-03-25|         Peru|      19206.0|\n",
            "|2021-03-26|      Ukraine|      18226.0|\n",
            "+----------+-------------+-------------+\n",
            "only showing top 10 rows\n",
            "\n"
          ]
        }
      ]
    },
    {
      "cell_type": "markdown",
      "metadata": {
        "id": "3_smX0yRNE9B"
      },
      "source": [
        "###Шаг 6: Изменение случаев относительно предыдущего дня в России за последнюю неделю марта 2021"
      ]
    },
    {
      "cell_type": "code",
      "execution_count": null,
      "metadata": {
        "colab": {
          "base_uri": "https://localhost:8080/"
        },
        "id": "DdpEgTcIQVEo",
        "outputId": "cdb2ba7f-29c3-427e-9f59-6bb2e7d5efb4"
      },
      "outputs": [
        {
          "output_type": "stream",
          "name": "stdout",
          "text": [
            "+--------+----------+-------+\n",
            "|iso_code|      date|  cases|\n",
            "+--------+----------+-------+\n",
            "|     RUS|2021-03-24| 8769.0|\n",
            "|     RUS|2020-02-04|    0.0|\n",
            "|     RUS|2020-09-17| 5667.0|\n",
            "|     RUS|2020-04-28| 6411.0|\n",
            "|     RUS|2020-11-06|20368.0|\n",
            "+--------+----------+-------+\n",
            "only showing top 5 rows\n",
            "\n"
          ]
        }
      ],
      "source": [
        "# Группируем данные по дате и подсчитываем новые случаи\n",
        "daily_cases = df.filter(col(\"iso_code\") == \"RUS\").groupBy(\"iso_code\", \"date\").agg(sum(\"new_cases\").alias(\"cases\"))\n",
        "daily_cases.show(5)"
      ]
    },
    {
      "cell_type": "code",
      "execution_count": null,
      "metadata": {
        "colab": {
          "base_uri": "https://localhost:8080/"
        },
        "id": "syjSRahEQXkh",
        "outputId": "a2bc82b3-5246-4768-b980-5ce6d170c96f"
      },
      "outputs": [
        {
          "output_type": "stream",
          "name": "stdout",
          "text": [
            "+--------+----------+-----+--------+\n",
            "|iso_code|      date|cases|prev_day|\n",
            "+--------+----------+-----+--------+\n",
            "|     RUS|2020-01-31|  2.0|    NULL|\n",
            "|     RUS|2020-02-01|  0.0|     2.0|\n",
            "|     RUS|2020-02-02|  0.0|     0.0|\n",
            "|     RUS|2020-02-03|  0.0|     0.0|\n",
            "|     RUS|2020-02-04|  0.0|     0.0|\n",
            "+--------+----------+-----+--------+\n",
            "only showing top 5 rows\n",
            "\n"
          ]
        }
      ],
      "source": [
        "# Преобразуем данные в DataFrame с колонками для каждого дня\n",
        "daily_cases_df = daily_cases.withColumn(\"prev_day\", lag(col(\"cases\"), 1).over(Window.orderBy(\"date\")))\n",
        "daily_cases_df.show(5)"
      ]
    },
    {
      "cell_type": "code",
      "execution_count": null,
      "metadata": {
        "colab": {
          "base_uri": "https://localhost:8080/"
        },
        "id": "7jrlRPaPQaH4",
        "outputId": "1d5de440-2a61-49b0-fff4-c3b7c831461b"
      },
      "outputs": [
        {
          "output_type": "stream",
          "name": "stdout",
          "text": [
            "+--------+----------+------+--------+------+\n",
            "|iso_code|      date| cases|prev_day| delta|\n",
            "+--------+----------+------+--------+------+\n",
            "|     RUS|2021-03-23|8369.0|  9195.0|-826.0|\n",
            "|     RUS|2021-03-24|8769.0|  8369.0| 400.0|\n",
            "|     RUS|2021-03-25|9128.0|  8769.0| 359.0|\n",
            "|     RUS|2021-03-26|9073.0|  9128.0| -55.0|\n",
            "|     RUS|2021-03-27|8783.0|  9073.0|-290.0|\n",
            "+--------+----------+------+--------+------+\n",
            "only showing top 5 rows\n",
            "\n"
          ]
        }
      ],
      "source": [
        "# Вычисляем изменение случаев\n",
        "delta_cases_rus = daily_cases_df.withColumn(\"delta\", col(\"cases\") - col(\"prev_day\")).filter((col(\"date\") >= \"2021-03-23\") & (col(\"date\") <= \"2021-03-31\"))\n",
        "delta_cases_rus.show(5)"
      ]
    },
    {
      "cell_type": "code",
      "execution_count": null,
      "metadata": {
        "colab": {
          "base_uri": "https://localhost:8080/"
        },
        "id": "-ToqgNBtQfEB",
        "outputId": "355a8aa0-b1cc-47ed-f248-43f98448577d"
      },
      "outputs": [
        {
          "output_type": "stream",
          "name": "stdout",
          "text": [
            "+----------+------+------+\n",
            "|      date| cases| delta|\n",
            "+----------+------+------+\n",
            "|2021-03-23|8369.0|-826.0|\n",
            "|2021-03-24|8769.0| 400.0|\n",
            "|2021-03-25|9128.0| 359.0|\n",
            "|2021-03-26|9073.0| -55.0|\n",
            "|2021-03-27|8783.0|-290.0|\n",
            "|2021-03-28|8979.0| 196.0|\n",
            "|2021-03-29|8589.0|-390.0|\n",
            "|2021-03-30|8162.0|-427.0|\n",
            "|2021-03-31|8156.0|  -6.0|\n",
            "+----------+------+------+\n",
            "\n"
          ]
        }
      ],
      "source": [
        "# Выводим результат\n",
        "delta_cases_rus.select(\"date\", \"cases\", \"delta\").orderBy(\"date\").show()"
      ]
    }
  ],
  "metadata": {
    "colab": {
      "provenance": [],
      "include_colab_link": true
    },
    "kernelspec": {
      "display_name": "Python 3",
      "name": "python3"
    },
    "language_info": {
      "codemirror_mode": {
        "name": "ipython",
        "version": 3
      },
      "file_extension": ".py",
      "mimetype": "text/x-python",
      "name": "python",
      "nbconvert_exporter": "python",
      "pygments_lexer": "ipython3",
      "version": "3.12.1"
    }
  },
  "nbformat": 4,
  "nbformat_minor": 0
}