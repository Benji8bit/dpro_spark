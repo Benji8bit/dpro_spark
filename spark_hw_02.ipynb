{
  "cells": [
    {
      "cell_type": "markdown",
      "metadata": {
        "id": "view-in-github",
        "colab_type": "text"
      },
      "source": [
        "<a href=\"https://colab.research.google.com/github/Benji8bit/dpro_spark/blob/main/spark_hw_02.ipynb\" target=\"_parent\"><img src=\"https://colab.research.google.com/assets/colab-badge.svg\" alt=\"Open In Colab\"/></a>"
      ]
    },
    {
      "cell_type": "markdown",
      "metadata": {
        "id": "e7hFASkVb-Hs"
      },
      "source": [
        "###Шаг 1: Импорт необходимых библиотек и создание Spark Session"
      ]
    },
    {
      "cell_type": "code",
      "execution_count": 2,
      "metadata": {
        "colab": {
          "base_uri": "https://localhost:8080/"
        },
        "id": "uspOEcCkcIMV",
        "outputId": "272ee8a8-5f74-44e7-81e7-b600da92e3b6"
      },
      "outputs": [
        {
          "output_type": "stream",
          "name": "stdout",
          "text": [
            "Requirement already satisfied: pyspark in /usr/local/lib/python3.10/dist-packages (3.5.3)\n",
            "Requirement already satisfied: py4j==0.10.9.7 in /usr/local/lib/python3.10/dist-packages (from pyspark) (0.10.9.7)\n"
          ]
        }
      ],
      "source": [
        "pip install pyspark"
      ]
    },
    {
      "cell_type": "code",
      "execution_count": 3,
      "metadata": {
        "id": "j0ruZxEpb_NU"
      },
      "outputs": [],
      "source": [
        "from pyspark.sql import SparkSession\n",
        "from pyspark.sql.functions import col, lit, sum, datediff, to_date, when\n",
        "\n",
        "# Создаем Spark Session\n",
        "spark = SparkSession.builder.appName(\"COVID-19 Analysis\").getOrCreate()"
      ]
    },
    {
      "cell_type": "markdown",
      "metadata": {
        "id": "ls05cTnKceKC"
      },
      "source": [
        "### Шаг 2: Загрузка данных\n",
        "У нас есть CSV-файл с данными о COVID-19. Загрузим его в DataFrame:"
      ]
    },
    {
      "cell_type": "code",
      "execution_count": 5,
      "metadata": {
        "id": "5N0WZl5CcirK"
      },
      "outputs": [],
      "source": [
        "# Файл называется 'covid-data.csv' и находится в той же директории\n",
        "df = spark.read.csv('covid-data.csv', header=True, inferSchema=True)"
      ]
    },
    {
      "cell_type": "code",
      "execution_count": 6,
      "metadata": {
        "colab": {
          "base_uri": "https://localhost:8080/"
        },
        "id": "zToLcepLk1W_",
        "outputId": "4b89818b-c222-467c-f691-869b8ec1cda9"
      },
      "outputs": [
        {
          "output_type": "stream",
          "name": "stdout",
          "text": [
            "+--------+---------+-----------+----------+-----------+---------+------------------+------------+----------+-------------------+-----------------------+---------------------+------------------------------+------------------------+----------------------+-------------------------------+-----------------+------------+------------------------+-------------+-------------------------+---------------------+---------------------------------+----------------------+----------------------------------+---------+-----------+------------------------+----------------------+------------------+-------------------------------+-------------+--------------+-----------+------------------+-----------------+-----------------------+----------------+-------------------------+------------------------------+-----------------------------+-----------------------------------+-------------------------------------+----------------+-----------+------------------+----------+-------------+-------------+--------------+---------------+---------------------+-------------------+--------------+------------+----------------------+--------------------------+---------------+-----------------------+\n",
            "|iso_code|continent|   location|      date|total_cases|new_cases|new_cases_smoothed|total_deaths|new_deaths|new_deaths_smoothed|total_cases_per_million|new_cases_per_million|new_cases_smoothed_per_million|total_deaths_per_million|new_deaths_per_million|new_deaths_smoothed_per_million|reproduction_rate|icu_patients|icu_patients_per_million|hosp_patients|hosp_patients_per_million|weekly_icu_admissions|weekly_icu_admissions_per_million|weekly_hosp_admissions|weekly_hosp_admissions_per_million|new_tests|total_tests|total_tests_per_thousand|new_tests_per_thousand|new_tests_smoothed|new_tests_smoothed_per_thousand|positive_rate|tests_per_case|tests_units|total_vaccinations|people_vaccinated|people_fully_vaccinated|new_vaccinations|new_vaccinations_smoothed|total_vaccinations_per_hundred|people_vaccinated_per_hundred|people_fully_vaccinated_per_hundred|new_vaccinations_smoothed_per_million|stringency_index| population|population_density|median_age|aged_65_older|aged_70_older|gdp_per_capita|extreme_poverty|cardiovasc_death_rate|diabetes_prevalence|female_smokers|male_smokers|handwashing_facilities|hospital_beds_per_thousand|life_expectancy|human_development_index|\n",
            "+--------+---------+-----------+----------+-----------+---------+------------------+------------+----------+-------------------+-----------------------+---------------------+------------------------------+------------------------+----------------------+-------------------------------+-----------------+------------+------------------------+-------------+-------------------------+---------------------+---------------------------------+----------------------+----------------------------------+---------+-----------+------------------------+----------------------+------------------+-------------------------------+-------------+--------------+-----------+------------------+-----------------+-----------------------+----------------+-------------------------+------------------------------+-----------------------------+-----------------------------------+-------------------------------------+----------------+-----------+------------------+----------+-------------+-------------+--------------+---------------+---------------------+-------------------+--------------+------------+----------------------+--------------------------+---------------+-----------------------+\n",
            "|     AFG|     Asia|Afghanistan|2020-02-24|        1.0|      1.0|              NULL|        NULL|      NULL|               NULL|                  0.026|                0.026|                          NULL|                    NULL|                  NULL|                           NULL|             NULL|        NULL|                    NULL|         NULL|                     NULL|                 NULL|                             NULL|                  NULL|                              NULL|     NULL|       NULL|                    NULL|                  NULL|              NULL|                           NULL|         NULL|          NULL|       NULL|              NULL|             NULL|                   NULL|            NULL|                     NULL|                          NULL|                         NULL|                               NULL|                                 NULL|            8.33|3.8928341E7|            54.422|      18.6|        2.581|        1.337|      1803.987|           NULL|              597.029|               9.59|          NULL|        NULL|                37.746|                       0.5|          64.83|                  0.511|\n",
            "|     AFG|     Asia|Afghanistan|2020-02-25|        1.0|      0.0|              NULL|        NULL|      NULL|               NULL|                  0.026|                  0.0|                          NULL|                    NULL|                  NULL|                           NULL|             NULL|        NULL|                    NULL|         NULL|                     NULL|                 NULL|                             NULL|                  NULL|                              NULL|     NULL|       NULL|                    NULL|                  NULL|              NULL|                           NULL|         NULL|          NULL|       NULL|              NULL|             NULL|                   NULL|            NULL|                     NULL|                          NULL|                         NULL|                               NULL|                                 NULL|            8.33|3.8928341E7|            54.422|      18.6|        2.581|        1.337|      1803.987|           NULL|              597.029|               9.59|          NULL|        NULL|                37.746|                       0.5|          64.83|                  0.511|\n",
            "|     AFG|     Asia|Afghanistan|2020-02-26|        1.0|      0.0|              NULL|        NULL|      NULL|               NULL|                  0.026|                  0.0|                          NULL|                    NULL|                  NULL|                           NULL|             NULL|        NULL|                    NULL|         NULL|                     NULL|                 NULL|                             NULL|                  NULL|                              NULL|     NULL|       NULL|                    NULL|                  NULL|              NULL|                           NULL|         NULL|          NULL|       NULL|              NULL|             NULL|                   NULL|            NULL|                     NULL|                          NULL|                         NULL|                               NULL|                                 NULL|            8.33|3.8928341E7|            54.422|      18.6|        2.581|        1.337|      1803.987|           NULL|              597.029|               9.59|          NULL|        NULL|                37.746|                       0.5|          64.83|                  0.511|\n",
            "|     AFG|     Asia|Afghanistan|2020-02-27|        1.0|      0.0|              NULL|        NULL|      NULL|               NULL|                  0.026|                  0.0|                          NULL|                    NULL|                  NULL|                           NULL|             NULL|        NULL|                    NULL|         NULL|                     NULL|                 NULL|                             NULL|                  NULL|                              NULL|     NULL|       NULL|                    NULL|                  NULL|              NULL|                           NULL|         NULL|          NULL|       NULL|              NULL|             NULL|                   NULL|            NULL|                     NULL|                          NULL|                         NULL|                               NULL|                                 NULL|            8.33|3.8928341E7|            54.422|      18.6|        2.581|        1.337|      1803.987|           NULL|              597.029|               9.59|          NULL|        NULL|                37.746|                       0.5|          64.83|                  0.511|\n",
            "|     AFG|     Asia|Afghanistan|2020-02-28|        1.0|      0.0|              NULL|        NULL|      NULL|               NULL|                  0.026|                  0.0|                          NULL|                    NULL|                  NULL|                           NULL|             NULL|        NULL|                    NULL|         NULL|                     NULL|                 NULL|                             NULL|                  NULL|                              NULL|     NULL|       NULL|                    NULL|                  NULL|              NULL|                           NULL|         NULL|          NULL|       NULL|              NULL|             NULL|                   NULL|            NULL|                     NULL|                          NULL|                         NULL|                               NULL|                                 NULL|            8.33|3.8928341E7|            54.422|      18.6|        2.581|        1.337|      1803.987|           NULL|              597.029|               9.59|          NULL|        NULL|                37.746|                       0.5|          64.83|                  0.511|\n",
            "+--------+---------+-----------+----------+-----------+---------+------------------+------------+----------+-------------------+-----------------------+---------------------+------------------------------+------------------------+----------------------+-------------------------------+-----------------+------------+------------------------+-------------+-------------------------+---------------------+---------------------------------+----------------------+----------------------------------+---------+-----------+------------------------+----------------------+------------------+-------------------------------+-------------+--------------+-----------+------------------+-----------------+-----------------------+----------------+-------------------------+------------------------------+-----------------------------+-----------------------------------+-------------------------------------+----------------+-----------+------------------+----------+-------------+-------------+--------------+---------------+---------------------+-------------------+--------------+------------+----------------------+--------------------------+---------------+-----------------------+\n",
            "only showing top 5 rows\n",
            "\n"
          ]
        }
      ],
      "source": [
        "df.show(5)"
      ]
    },
    {
      "cell_type": "code",
      "execution_count": null,
      "metadata": {
        "collapsed": true,
        "id": "KznBbveGqRkE"
      },
      "outputs": [],
      "source": [
        "df.printSchema()"
      ]
    },
    {
      "cell_type": "markdown",
      "metadata": {
        "id": "QQrNTYhZjseL"
      },
      "source": [
        "###Шаг 3: Подготовка данных\n",
        "Отфильтруем датасет по дате"
      ]
    },
    {
      "cell_type": "code",
      "execution_count": 8,
      "metadata": {
        "colab": {
          "base_uri": "https://localhost:8080/"
        },
        "id": "cM_q-1q0ktA5",
        "outputId": "d5dd03b5-4809-4e01-8f4c-ceb31f9af095"
      },
      "outputs": [
        {
          "output_type": "execute_result",
          "data": {
            "text/plain": [
              "82289"
            ]
          },
          "metadata": {},
          "execution_count": 8
        }
      ],
      "source": [
        "df.count()"
      ]
    },
    {
      "cell_type": "code",
      "execution_count": 20,
      "metadata": {
        "colab": {
          "base_uri": "https://localhost:8080/"
        },
        "id": "rZ7ylkrxk0Ix",
        "outputId": "93726116-2a3a-4ed3-d4db-abda27897983"
      },
      "outputs": [
        {
          "output_type": "execute_result",
          "data": {
            "text/plain": [
              "189"
            ]
          },
          "metadata": {},
          "execution_count": 20
        }
      ],
      "source": [
        "filtered_df = df.filter(col(\"date\") == lit(\"2020-03-31\"))\n",
        "filtered_df.count()"
      ]
    },
    {
      "cell_type": "markdown",
      "metadata": {
        "id": "06_FPg0slRAq"
      },
      "source": [
        "###Шаг 4: Выбор 15 стран с наибольшим процентом переболевших"
      ]
    },
    {
      "cell_type": "code",
      "source": [
        "total_cases_top_15_df = filtered_df.sort(filtered_df.total_cases.desc()).limit(15)"
      ],
      "metadata": {
        "id": "8A_AmX1hLKhz"
      },
      "execution_count": 21,
      "outputs": []
    },
    {
      "cell_type": "code",
      "source": [
        "total_cases_top_15_df.select(\"iso_code\", \"location\", \"population\", \"total_cases\").show()"
      ],
      "metadata": {
        "id": "69LYgjPfMhHA",
        "outputId": "e30b93d3-bfc2-4f58-ea17-2193fa5f5841",
        "colab": {
          "base_uri": "https://localhost:8080/"
        }
      },
      "execution_count": 22,
      "outputs": [
        {
          "output_type": "stream",
          "name": "stdout",
          "text": [
            "+--------+--------------+-------------+-----------+\n",
            "|iso_code|      location|   population|total_cases|\n",
            "+--------+--------------+-------------+-----------+\n",
            "|OWID_WRL|         World|7.794798729E9|   875794.0|\n",
            "|OWID_EUR|        Europe| 7.48680069E8|   465241.0|\n",
            "|OWID_EUN|European Union|  4.4491906E8|   397713.0|\n",
            "|OWID_NAM| North America| 5.92072204E8|   205321.0|\n",
            "|     USA| United States| 3.31002647E8|   192301.0|\n",
            "|OWID_ASI|          Asia|4.639847425E9|   179033.0|\n",
            "|     ITA|         Italy|  6.0461828E7|   105792.0|\n",
            "|     ESP|         Spain|  4.6754783E7|    95923.0|\n",
            "|     CHN|         China|1.439323774E9|    82279.0|\n",
            "|     DEU|       Germany|  8.3783945E7|    71808.0|\n",
            "|     FRA|        France|  6.8147687E7|    52278.0|\n",
            "|     IRN|          Iran|  8.3992953E7|    44605.0|\n",
            "|     GBR|United Kingdom|  6.7886004E7|    38815.0|\n",
            "|     CHE|   Switzerland|    8654618.0|    16605.0|\n",
            "|OWID_SAM| South America| 4.30759772E8|    14492.0|\n",
            "+--------+--------------+-------------+-----------+\n",
            "\n"
          ]
        }
      ]
    },
    {
      "cell_type": "code",
      "execution_count": 23,
      "metadata": {
        "id": "fTG8asy1xpvk"
      },
      "outputs": [],
      "source": [
        "cases_percent_df = total_cases_top_15_df.withColumn(\"cases_percent\", (total_cases_top_15_df.total_cases * 100)/total_cases_top_15_df.population)"
      ]
    },
    {
      "cell_type": "code",
      "execution_count": 24,
      "metadata": {
        "colab": {
          "base_uri": "https://localhost:8080/"
        },
        "id": "ex-HrY6wzJpk",
        "outputId": "d5a8e519-0dfb-471d-bd13-df9cfe23bf3c"
      },
      "outputs": [
        {
          "output_type": "stream",
          "name": "stdout",
          "text": [
            "+--------+--------------+--------------------+\n",
            "|iso_code|      location|       cases_percent|\n",
            "+--------+--------------+--------------------+\n",
            "|     ESP|         Spain| 0.20516189755388234|\n",
            "|     CHE|   Switzerland| 0.19186288753587968|\n",
            "|     ITA|         Italy|  0.1749732078891164|\n",
            "|OWID_EUN|European Union| 0.08938996679530879|\n",
            "|     DEU|       Germany| 0.08570615766540952|\n",
            "|     FRA|        France| 0.07671280171255115|\n",
            "|OWID_EUR|        Europe| 0.06214149665042038|\n",
            "|     USA| United States|0.058096514255367875|\n",
            "|     GBR|United Kingdom| 0.05717673410265833|\n",
            "|     IRN|          Iran|0.053105645660535356|\n",
            "|OWID_NAM| North America|0.034678371761563055|\n",
            "|OWID_WRL|         World|0.011235620449591213|\n",
            "|     CHN|         China|0.005716503922626098|\n",
            "|OWID_ASI|          Asia|0.003858596708058...|\n",
            "|OWID_SAM| South America|0.003364288158273...|\n",
            "+--------+--------------+--------------------+\n",
            "\n"
          ]
        }
      ],
      "source": [
        "cases_percent_df = cases_percent_df.select(\"iso_code\", \"location\", \"cases_percent\").orderBy(cases_percent_df.cases_percent.desc()).show(15)"
      ]
    },
    {
      "cell_type": "markdown",
      "metadata": {
        "id": "cxOjLAyJGVng"
      },
      "source": [
        "###Шаг 5: Выбор 10 стран с максимальным зафиксированным количеством новых случаев за последнюю неделю марта 2021"
      ]
    },
    {
      "cell_type": "code",
      "execution_count": null,
      "metadata": {
        "id": "jal4_J8PHMVv"
      },
      "outputs": [],
      "source": [
        "# Фильтруем данные за последнюю неделю марта 2021\n",
        "df_march_21 = df.filter((col(\"date\") >= \"2021-03-23\") & (col(\"date\") <= \"2021-03-31\"))"
      ]
    },
    {
      "cell_type": "code",
      "execution_count": null,
      "metadata": {
        "id": "XBpUzALkHh5D"
      },
      "outputs": [],
      "source": [
        "# Группируем данные по стране и подсчитываем новые случаи\n",
        "new_cases = df_march_21.groupBy(\"iso_code\", \"location\").agg(sum(\"new_cases\").alias(\"total_new_cases\"))"
      ]
    },
    {
      "cell_type": "code",
      "execution_count": null,
      "metadata": {
        "id": "BsKrsA50HxcN"
      },
      "outputs": [],
      "source": [
        "# Находим страны с максимальным количеством новых случаев\n",
        "top_10_countries = new_cases.orderBy(new_cases.total_new_cases.desc()).limit(10)"
      ]
    },
    {
      "cell_type": "code",
      "execution_count": null,
      "metadata": {
        "colab": {
          "base_uri": "https://localhost:8080/"
        },
        "id": "JL_SJaI8Hz6t",
        "outputId": "056c1307-2200-4633-a0c3-ccc5751603ff"
      },
      "outputs": [
        {
          "name": "stdout",
          "output_type": "stream",
          "text": [
            "+--------------+---------------+\n",
            "|      location|total_new_cases|\n",
            "+--------------+---------------+\n",
            "|         World|      5204960.0|\n",
            "|        Europe|      1909681.0|\n",
            "|European Union|      1529997.0|\n",
            "|          Asia|      1405330.0|\n",
            "| South America|      1074115.0|\n",
            "| North America|       711840.0|\n",
            "|        Brazil|       701221.0|\n",
            "| United States|       588863.0|\n",
            "|         India|       534869.0|\n",
            "|        France|       346158.0|\n",
            "+--------------+---------------+\n",
            "\n"
          ]
        }
      ],
      "source": [
        "# Выводим результат\n",
        "top_10_countries.select(\"location\", \"total_new_cases\").show()"
      ]
    },
    {
      "cell_type": "markdown",
      "metadata": {
        "id": "3_smX0yRNE9B"
      },
      "source": [
        "###Шаг 6: Изменение случаев относительно предыдущего дня в России за последнюю неделю марта 2021"
      ]
    },
    {
      "cell_type": "code",
      "execution_count": null,
      "metadata": {
        "id": "Btsu8tYXRzCW"
      },
      "outputs": [],
      "source": [
        "from pyspark.sql.window import Window\n",
        "from pyspark.sql.functions import lag"
      ]
    },
    {
      "cell_type": "code",
      "execution_count": null,
      "metadata": {
        "colab": {
          "base_uri": "https://localhost:8080/"
        },
        "id": "QvAL7dJQNUbj",
        "outputId": "c3caf259-3d5b-4928-9b5f-ea0a02bf9f4d"
      },
      "outputs": [
        {
          "name": "stdout",
          "output_type": "stream",
          "text": [
            "+--------+---------+--------+----------+-----------+---------+------------------+------------+----------+-------------------+-----------------------+---------------------+------------------------------+------------------------+----------------------+-------------------------------+-----------------+------------+------------------------+-------------+-------------------------+---------------------+---------------------------------+----------------------+----------------------------------+---------+------------+------------------------+----------------------+------------------+-------------------------------+-------------+--------------+---------------+------------------+-----------------+-----------------------+----------------+-------------------------+------------------------------+-----------------------------+-----------------------------------+-------------------------------------+----------------+-----------+------------------+----------+-------------+-------------+--------------+---------------+---------------------+-------------------+--------------+------------+----------------------+--------------------------+---------------+-----------------------+\n",
            "|iso_code|continent|location|      date|total_cases|new_cases|new_cases_smoothed|total_deaths|new_deaths|new_deaths_smoothed|total_cases_per_million|new_cases_per_million|new_cases_smoothed_per_million|total_deaths_per_million|new_deaths_per_million|new_deaths_smoothed_per_million|reproduction_rate|icu_patients|icu_patients_per_million|hosp_patients|hosp_patients_per_million|weekly_icu_admissions|weekly_icu_admissions_per_million|weekly_hosp_admissions|weekly_hosp_admissions_per_million|new_tests| total_tests|total_tests_per_thousand|new_tests_per_thousand|new_tests_smoothed|new_tests_smoothed_per_thousand|positive_rate|tests_per_case|    tests_units|total_vaccinations|people_vaccinated|people_fully_vaccinated|new_vaccinations|new_vaccinations_smoothed|total_vaccinations_per_hundred|people_vaccinated_per_hundred|people_fully_vaccinated_per_hundred|new_vaccinations_smoothed_per_million|stringency_index| population|population_density|median_age|aged_65_older|aged_70_older|gdp_per_capita|extreme_poverty|cardiovasc_death_rate|diabetes_prevalence|female_smokers|male_smokers|handwashing_facilities|hospital_beds_per_thousand|life_expectancy|human_development_index|\n",
            "+--------+---------+--------+----------+-----------+---------+------------------+------------+----------+-------------------+-----------------------+---------------------+------------------------------+------------------------+----------------------+-------------------------------+-----------------+------------+------------------------+-------------+-------------------------+---------------------+---------------------------------+----------------------+----------------------------------+---------+------------+------------------------+----------------------+------------------+-------------------------------+-------------+--------------+---------------+------------------+-----------------+-----------------------+----------------+-------------------------+------------------------------+-----------------------------+-----------------------------------+-------------------------------------+----------------+-----------+------------------+----------+-------------+-------------+--------------+---------------+---------------------+-------------------+--------------+------------+----------------------+--------------------------+---------------+-----------------------+\n",
            "|     RUS|   Europe|  Russia|2021-03-23|  4424595.0|   8369.0|          9223.143|     94231.0|     419.0|            405.143|              30319.056|               57.348|                        63.201|                 645.708|                 2.871|                          2.776|             0.95|        NULL|                    NULL|         NULL|                     NULL|                 NULL|                             NULL|                  NULL|                              NULL|     NULL|        NULL|                    NULL|                  NULL|          297480.0|                          2.038|        0.031|          32.3|tests performed|              NULL|             NULL|                   NULL|            NULL|                 182102.0|                          NULL|                         NULL|                               NULL|                               1248.0|           40.28|1.4593446E8|             8.823|      39.6|       14.178|        9.393|     24765.954|            0.1|              431.297|               6.18|          23.4|        58.3|                  NULL|                      8.05|          72.58|                  0.824|\n",
            "|     RUS|   Europe|  Russia|2021-03-24|  4433364.0|   8769.0|            9203.0|     94624.0|     393.0|            401.286|              30379.144|               60.089|                        63.063|                 648.401|                 2.693|                           2.75|             0.95|        NULL|                    NULL|         NULL|                     NULL|                 NULL|                             NULL|                  NULL|                              NULL|     NULL| 1.1850585E8|                 812.048|                  NULL|          297418.0|                          2.038|        0.031|          32.3|tests performed|              NULL|             NULL|                   NULL|            NULL|                 225747.0|                          NULL|                         NULL|                               NULL|                               1547.0|           40.28|1.4593446E8|             8.823|      39.6|       14.178|        9.393|     24765.954|            0.1|              431.297|               6.18|          23.4|        58.3|                  NULL|                      8.05|          72.58|                  0.824|\n",
            "|     RUS|   Europe|  Russia|2021-03-25|  4442492.0|   9128.0|          9119.429|     95010.0|     386.0|              392.0|              30441.693|               62.549|                         62.49|                 651.046|                 2.645|                          2.686|             0.95|        NULL|                    NULL|         NULL|                     NULL|                 NULL|                             NULL|                  NULL|                              NULL| 337695.0|1.18843545E8|                 814.362|                 2.314|          302734.0|                          2.074|         0.03|          33.2|tests performed|              NULL|             NULL|                   NULL|            NULL|                 262004.0|                          NULL|                         NULL|                               NULL|                               1795.0|           40.28|1.4593446E8|             8.823|      39.6|       14.178|        9.393|     24765.954|            0.1|              431.297|               6.18|          23.4|        58.3|                  NULL|                      8.05|          72.58|                  0.824|\n",
            "|     RUS|   Europe|  Russia|2021-03-26|  4451565.0|   9073.0|          9042.429|     95410.0|     400.0|            386.571|              30503.865|               62.172|                        61.962|                 653.787|                 2.741|                          2.649|             0.95|        NULL|                    NULL|         NULL|                     NULL|                 NULL|                             NULL|                  NULL|                              NULL| 341455.0|   1.19185E8|                 816.702|                  2.34|          304012.0|                          2.083|         0.03|          33.6|tests performed|              NULL|             NULL|                   NULL|            NULL|                 271820.0|                          NULL|                         NULL|                               NULL|                               1863.0|           40.28|1.4593446E8|             8.823|      39.6|       14.178|        9.393|     24765.954|            0.1|              431.297|               6.18|          23.4|        58.3|                  NULL|                      8.05|          72.58|                  0.824|\n",
            "|     RUS|   Europe|  Russia|2021-03-27|  4460348.0|   8783.0|          8933.143|     95792.0|     382.0|              386.0|              30564.049|               60.185|                        61.213|                 656.404|                 2.618|                          2.645|             0.95|        NULL|                    NULL|         NULL|                     NULL|                 NULL|                             NULL|                  NULL|                              NULL| 341365.0|1.19526365E8|                 819.041|                 2.339|          305276.0|                          2.092|        0.029|          34.2|tests performed|              NULL|             NULL|                   NULL|            NULL|                 303915.0|                          NULL|                         NULL|                               NULL|                               2083.0|           40.28|1.4593446E8|             8.823|      39.6|       14.178|        9.393|     24765.954|            0.1|              431.297|               6.18|          23.4|        58.3|                  NULL|                      8.05|          72.58|                  0.824|\n",
            "+--------+---------+--------+----------+-----------+---------+------------------+------------+----------+-------------------+-----------------------+---------------------+------------------------------+------------------------+----------------------+-------------------------------+-----------------+------------+------------------------+-------------+-------------------------+---------------------+---------------------------------+----------------------+----------------------------------+---------+------------+------------------------+----------------------+------------------+-------------------------------+-------------+--------------+---------------+------------------+-----------------+-----------------------+----------------+-------------------------+------------------------------+-----------------------------+-----------------------------------+-------------------------------------+----------------+-----------+------------------+----------+-------------+-------------+--------------+---------------+---------------------+-------------------+--------------+------------+----------------------+--------------------------+---------------+-----------------------+\n",
            "only showing top 5 rows\n",
            "\n"
          ]
        }
      ],
      "source": [
        "# Фильтруем данные за последнюю неделю марта 2021\n",
        "df_march_21 = df.filter((col(\"date\") >= \"2021-03-23\") & (col(\"date\") <= \"2021-03-31\")).filter(col(\"iso_code\") == \"RUS\")\n",
        "df_march_21.show(5)"
      ]
    },
    {
      "cell_type": "code",
      "execution_count": null,
      "metadata": {
        "colab": {
          "base_uri": "https://localhost:8080/"
        },
        "id": "DdpEgTcIQVEo",
        "outputId": "f11d1d94-1359-48bb-d81f-db2b22ee8721"
      },
      "outputs": [
        {
          "name": "stdout",
          "output_type": "stream",
          "text": [
            "+--------+----------+------+\n",
            "|iso_code|      date| cases|\n",
            "+--------+----------+------+\n",
            "|     RUS|2021-03-24|8769.0|\n",
            "|     RUS|2021-03-28|8979.0|\n",
            "|     RUS|2021-03-27|8783.0|\n",
            "|     RUS|2021-03-30|8162.0|\n",
            "|     RUS|2021-03-25|9128.0|\n",
            "+--------+----------+------+\n",
            "only showing top 5 rows\n",
            "\n"
          ]
        }
      ],
      "source": [
        "# Группируем данные по дате и подсчитываем новые случаи\n",
        "daily_cases = df_march_21.groupBy(\"iso_code\", \"date\").agg(sum(\"new_cases\").alias(\"cases\"))\n",
        "daily_cases.show(5)"
      ]
    },
    {
      "cell_type": "code",
      "execution_count": null,
      "metadata": {
        "colab": {
          "base_uri": "https://localhost:8080/"
        },
        "id": "syjSRahEQXkh",
        "outputId": "3ac63ef6-29b8-4b93-d934-e174e8a4c9d3"
      },
      "outputs": [
        {
          "name": "stdout",
          "output_type": "stream",
          "text": [
            "+--------+----------+------+--------+\n",
            "|iso_code|      date| cases|prev_day|\n",
            "+--------+----------+------+--------+\n",
            "|     RUS|2021-03-23|8369.0|    NULL|\n",
            "|     RUS|2021-03-24|8769.0|  8369.0|\n",
            "|     RUS|2021-03-25|9128.0|  8769.0|\n",
            "|     RUS|2021-03-26|9073.0|  9128.0|\n",
            "|     RUS|2021-03-27|8783.0|  9073.0|\n",
            "+--------+----------+------+--------+\n",
            "only showing top 5 rows\n",
            "\n"
          ]
        }
      ],
      "source": [
        "# Преобразуем данные в DataFrame с колонками для каждого дня\n",
        "daily_cases_df = daily_cases.withColumn(\"prev_day\", lag(col(\"cases\"), 1).over(Window.orderBy(\"date\")))\n",
        "daily_cases_df.show(5)"
      ]
    },
    {
      "cell_type": "code",
      "execution_count": null,
      "metadata": {
        "colab": {
          "base_uri": "https://localhost:8080/"
        },
        "id": "7jrlRPaPQaH4",
        "outputId": "0c3d5766-067b-4f58-bfca-3dabb00bdabd"
      },
      "outputs": [
        {
          "name": "stdout",
          "output_type": "stream",
          "text": [
            "+--------+----------+------+--------+------+\n",
            "|iso_code|      date| cases|prev_day| delta|\n",
            "+--------+----------+------+--------+------+\n",
            "|     RUS|2021-03-23|8369.0|    NULL|  NULL|\n",
            "|     RUS|2021-03-24|8769.0|  8369.0| 400.0|\n",
            "|     RUS|2021-03-25|9128.0|  8769.0| 359.0|\n",
            "|     RUS|2021-03-26|9073.0|  9128.0| -55.0|\n",
            "|     RUS|2021-03-27|8783.0|  9073.0|-290.0|\n",
            "+--------+----------+------+--------+------+\n",
            "only showing top 5 rows\n",
            "\n"
          ]
        }
      ],
      "source": [
        "# Вычисляем изменение случаев\n",
        "delta_cases_rus = daily_cases_df.withColumn(\"delta\", col(\"cases\") - col(\"prev_day\"))\n",
        "delta_cases_rus.show(5)"
      ]
    },
    {
      "cell_type": "code",
      "execution_count": null,
      "metadata": {
        "colab": {
          "base_uri": "https://localhost:8080/"
        },
        "id": "-ToqgNBtQfEB",
        "outputId": "62e75d09-1362-4d4b-d435-e41556879c4a"
      },
      "outputs": [
        {
          "name": "stdout",
          "output_type": "stream",
          "text": [
            "+----------+------+------+\n",
            "|      date| cases| delta|\n",
            "+----------+------+------+\n",
            "|2021-03-23|8369.0|  NULL|\n",
            "|2021-03-24|8769.0| 400.0|\n",
            "|2021-03-25|9128.0| 359.0|\n",
            "|2021-03-26|9073.0| -55.0|\n",
            "|2021-03-27|8783.0|-290.0|\n",
            "|2021-03-28|8979.0| 196.0|\n",
            "|2021-03-29|8589.0|-390.0|\n",
            "|2021-03-30|8162.0|-427.0|\n",
            "|2021-03-31|8156.0|  -6.0|\n",
            "+----------+------+------+\n",
            "\n"
          ]
        }
      ],
      "source": [
        "# Выводим результат\n",
        "delta_cases_rus.select(\"date\", \"cases\", \"delta\").orderBy(\"date\").show()"
      ]
    }
  ],
  "metadata": {
    "colab": {
      "provenance": [],
      "include_colab_link": true
    },
    "kernelspec": {
      "display_name": "Python 3",
      "name": "python3"
    },
    "language_info": {
      "codemirror_mode": {
        "name": "ipython",
        "version": 3
      },
      "file_extension": ".py",
      "mimetype": "text/x-python",
      "name": "python",
      "nbconvert_exporter": "python",
      "pygments_lexer": "ipython3",
      "version": "3.12.1"
    }
  },
  "nbformat": 4,
  "nbformat_minor": 0
}