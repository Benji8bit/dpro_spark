{
  "cells": [
    {
      "cell_type": "markdown",
      "metadata": {
        "id": "view-in-github",
        "colab_type": "text"
      },
      "source": [
        "<a href=\"https://colab.research.google.com/github/Benji8bit/dpro_spark/blob/main/spark_hw_02.ipynb\" target=\"_parent\"><img src=\"https://colab.research.google.com/assets/colab-badge.svg\" alt=\"Open In Colab\"/></a>"
      ]
    },
    {
      "cell_type": "markdown",
      "metadata": {
        "id": "e7hFASkVb-Hs"
      },
      "source": [
        "###Шаг 1: Импорт необходимых библиотек и создание Spark Session"
      ]
    },
    {
      "cell_type": "code",
      "execution_count": 2,
      "metadata": {
        "colab": {
          "base_uri": "https://localhost:8080/"
        },
        "id": "uspOEcCkcIMV",
        "outputId": "272ee8a8-5f74-44e7-81e7-b600da92e3b6"
      },
      "outputs": [
        {
          "output_type": "stream",
          "name": "stdout",
          "text": [
            "Requirement already satisfied: pyspark in /usr/local/lib/python3.10/dist-packages (3.5.3)\n",
            "Requirement already satisfied: py4j==0.10.9.7 in /usr/local/lib/python3.10/dist-packages (from pyspark) (0.10.9.7)\n"
          ]
        }
      ],
      "source": [
        "pip install pyspark"
      ]
    },
    {
      "cell_type": "code",
      "execution_count": 3,
      "metadata": {
        "id": "j0ruZxEpb_NU"
      },
      "outputs": [],
      "source": [
        "from pyspark.sql import SparkSession\n",
        "from pyspark.sql.functions import col, lit, sum, datediff, to_date, when\n",
        "\n",
        "# Создаем Spark Session\n",
        "spark = SparkSession.builder.appName(\"COVID-19 Analysis\").getOrCreate()"
      ]
    },
    {
      "cell_type": "markdown",
      "metadata": {
        "id": "ls05cTnKceKC"
      },
      "source": [
        "### Шаг 2: Загрузка данных\n",
        "У нас есть CSV-файл с данными о COVID-19. Загрузим его в DataFrame:"
      ]
    },
    {
      "cell_type": "code",
      "execution_count": 5,
      "metadata": {
        "id": "5N0WZl5CcirK"
      },
      "outputs": [],
      "source": [
        "# Файл называется 'covid-data.csv' и находится в той же директории\n",
        "df = spark.read.csv('covid-data.csv', header=True, inferSchema=True)"
      ]
    },
    {
      "cell_type": "code",
      "execution_count": 6,
      "metadata": {
        "colab": {
          "base_uri": "https://localhost:8080/"
        },
        "id": "zToLcepLk1W_",
        "outputId": "4b89818b-c222-467c-f691-869b8ec1cda9"
      },
      "outputs": [
        {
          "output_type": "stream",
          "name": "stdout",
          "text": [
            "+--------+---------+-----------+----------+-----------+---------+------------------+------------+----------+-------------------+-----------------------+---------------------+------------------------------+------------------------+----------------------+-------------------------------+-----------------+------------+------------------------+-------------+-------------------------+---------------------+---------------------------------+----------------------+----------------------------------+---------+-----------+------------------------+----------------------+------------------+-------------------------------+-------------+--------------+-----------+------------------+-----------------+-----------------------+----------------+-------------------------+------------------------------+-----------------------------+-----------------------------------+-------------------------------------+----------------+-----------+------------------+----------+-------------+-------------+--------------+---------------+---------------------+-------------------+--------------+------------+----------------------+--------------------------+---------------+-----------------------+\n",
            "|iso_code|continent|   location|      date|total_cases|new_cases|new_cases_smoothed|total_deaths|new_deaths|new_deaths_smoothed|total_cases_per_million|new_cases_per_million|new_cases_smoothed_per_million|total_deaths_per_million|new_deaths_per_million|new_deaths_smoothed_per_million|reproduction_rate|icu_patients|icu_patients_per_million|hosp_patients|hosp_patients_per_million|weekly_icu_admissions|weekly_icu_admissions_per_million|weekly_hosp_admissions|weekly_hosp_admissions_per_million|new_tests|total_tests|total_tests_per_thousand|new_tests_per_thousand|new_tests_smoothed|new_tests_smoothed_per_thousand|positive_rate|tests_per_case|tests_units|total_vaccinations|people_vaccinated|people_fully_vaccinated|new_vaccinations|new_vaccinations_smoothed|total_vaccinations_per_hundred|people_vaccinated_per_hundred|people_fully_vaccinated_per_hundred|new_vaccinations_smoothed_per_million|stringency_index| population|population_density|median_age|aged_65_older|aged_70_older|gdp_per_capita|extreme_poverty|cardiovasc_death_rate|diabetes_prevalence|female_smokers|male_smokers|handwashing_facilities|hospital_beds_per_thousand|life_expectancy|human_development_index|\n",
            "+--------+---------+-----------+----------+-----------+---------+------------------+------------+----------+-------------------+-----------------------+---------------------+------------------------------+------------------------+----------------------+-------------------------------+-----------------+------------+------------------------+-------------+-------------------------+---------------------+---------------------------------+----------------------+----------------------------------+---------+-----------+------------------------+----------------------+------------------+-------------------------------+-------------+--------------+-----------+------------------+-----------------+-----------------------+----------------+-------------------------+------------------------------+-----------------------------+-----------------------------------+-------------------------------------+----------------+-----------+------------------+----------+-------------+-------------+--------------+---------------+---------------------+-------------------+--------------+------------+----------------------+--------------------------+---------------+-----------------------+\n",
            "|     AFG|     Asia|Afghanistan|2020-02-24|        1.0|      1.0|              NULL|        NULL|      NULL|               NULL|                  0.026|                0.026|                          NULL|                    NULL|                  NULL|                           NULL|             NULL|        NULL|                    NULL|         NULL|                     NULL|                 NULL|                             NULL|                  NULL|                              NULL|     NULL|       NULL|                    NULL|                  NULL|              NULL|                           NULL|         NULL|          NULL|       NULL|              NULL|             NULL|                   NULL|            NULL|                     NULL|                          NULL|                         NULL|                               NULL|                                 NULL|            8.33|3.8928341E7|            54.422|      18.6|        2.581|        1.337|      1803.987|           NULL|              597.029|               9.59|          NULL|        NULL|                37.746|                       0.5|          64.83|                  0.511|\n",
            "|     AFG|     Asia|Afghanistan|2020-02-25|        1.0|      0.0|              NULL|        NULL|      NULL|               NULL|                  0.026|                  0.0|                          NULL|                    NULL|                  NULL|                           NULL|             NULL|        NULL|                    NULL|         NULL|                     NULL|                 NULL|                             NULL|                  NULL|                              NULL|     NULL|       NULL|                    NULL|                  NULL|              NULL|                           NULL|         NULL|          NULL|       NULL|              NULL|             NULL|                   NULL|            NULL|                     NULL|                          NULL|                         NULL|                               NULL|                                 NULL|            8.33|3.8928341E7|            54.422|      18.6|        2.581|        1.337|      1803.987|           NULL|              597.029|               9.59|          NULL|        NULL|                37.746|                       0.5|          64.83|                  0.511|\n",
            "|     AFG|     Asia|Afghanistan|2020-02-26|        1.0|      0.0|              NULL|        NULL|      NULL|               NULL|                  0.026|                  0.0|                          NULL|                    NULL|                  NULL|                           NULL|             NULL|        NULL|                    NULL|         NULL|                     NULL|                 NULL|                             NULL|                  NULL|                              NULL|     NULL|       NULL|                    NULL|                  NULL|              NULL|                           NULL|         NULL|          NULL|       NULL|              NULL|             NULL|                   NULL|            NULL|                     NULL|                          NULL|                         NULL|                               NULL|                                 NULL|            8.33|3.8928341E7|            54.422|      18.6|        2.581|        1.337|      1803.987|           NULL|              597.029|               9.59|          NULL|        NULL|                37.746|                       0.5|          64.83|                  0.511|\n",
            "|     AFG|     Asia|Afghanistan|2020-02-27|        1.0|      0.0|              NULL|        NULL|      NULL|               NULL|                  0.026|                  0.0|                          NULL|                    NULL|                  NULL|                           NULL|             NULL|        NULL|                    NULL|         NULL|                     NULL|                 NULL|                             NULL|                  NULL|                              NULL|     NULL|       NULL|                    NULL|                  NULL|              NULL|                           NULL|         NULL|          NULL|       NULL|              NULL|             NULL|                   NULL|            NULL|                     NULL|                          NULL|                         NULL|                               NULL|                                 NULL|            8.33|3.8928341E7|            54.422|      18.6|        2.581|        1.337|      1803.987|           NULL|              597.029|               9.59|          NULL|        NULL|                37.746|                       0.5|          64.83|                  0.511|\n",
            "|     AFG|     Asia|Afghanistan|2020-02-28|        1.0|      0.0|              NULL|        NULL|      NULL|               NULL|                  0.026|                  0.0|                          NULL|                    NULL|                  NULL|                           NULL|             NULL|        NULL|                    NULL|         NULL|                     NULL|                 NULL|                             NULL|                  NULL|                              NULL|     NULL|       NULL|                    NULL|                  NULL|              NULL|                           NULL|         NULL|          NULL|       NULL|              NULL|             NULL|                   NULL|            NULL|                     NULL|                          NULL|                         NULL|                               NULL|                                 NULL|            8.33|3.8928341E7|            54.422|      18.6|        2.581|        1.337|      1803.987|           NULL|              597.029|               9.59|          NULL|        NULL|                37.746|                       0.5|          64.83|                  0.511|\n",
            "+--------+---------+-----------+----------+-----------+---------+------------------+------------+----------+-------------------+-----------------------+---------------------+------------------------------+------------------------+----------------------+-------------------------------+-----------------+------------+------------------------+-------------+-------------------------+---------------------+---------------------------------+----------------------+----------------------------------+---------+-----------+------------------------+----------------------+------------------+-------------------------------+-------------+--------------+-----------+------------------+-----------------+-----------------------+----------------+-------------------------+------------------------------+-----------------------------+-----------------------------------+-------------------------------------+----------------+-----------+------------------+----------+-------------+-------------+--------------+---------------+---------------------+-------------------+--------------+------------+----------------------+--------------------------+---------------+-----------------------+\n",
            "only showing top 5 rows\n",
            "\n"
          ]
        }
      ],
      "source": [
        "df.show(5)"
      ]
    },
    {
      "cell_type": "code",
      "execution_count": null,
      "metadata": {
        "collapsed": true,
        "id": "KznBbveGqRkE"
      },
      "outputs": [],
      "source": [
        "df.printSchema()"
      ]
    },
    {
      "cell_type": "markdown",
      "metadata": {
        "id": "QQrNTYhZjseL"
      },
      "source": [
        "###Шаг 3: Подготовка данных\n",
        "Отфильтруем датасет по дате"
      ]
    },
    {
      "cell_type": "code",
      "execution_count": 8,
      "metadata": {
        "colab": {
          "base_uri": "https://localhost:8080/"
        },
        "id": "cM_q-1q0ktA5",
        "outputId": "d5dd03b5-4809-4e01-8f4c-ceb31f9af095"
      },
      "outputs": [
        {
          "output_type": "execute_result",
          "data": {
            "text/plain": [
              "82289"
            ]
          },
          "metadata": {},
          "execution_count": 8
        }
      ],
      "source": [
        "df.count()"
      ]
    },
    {
      "cell_type": "code",
      "execution_count": 20,
      "metadata": {
        "colab": {
          "base_uri": "https://localhost:8080/"
        },
        "id": "rZ7ylkrxk0Ix",
        "outputId": "93726116-2a3a-4ed3-d4db-abda27897983"
      },
      "outputs": [
        {
          "output_type": "execute_result",
          "data": {
            "text/plain": [
              "189"
            ]
          },
          "metadata": {},
          "execution_count": 20
        }
      ],
      "source": [
        "filtered_df = df.filter(col(\"date\") == lit(\"2020-03-31\"))\n",
        "filtered_df.count()"
      ]
    },
    {
      "cell_type": "code",
      "source": [
        "filtered_df.select(\"iso_code\", \"location\", \"date\", \"new_cases\").orderBy(col(\"new_cases\").desc()).show()"
      ],
      "metadata": {
        "colab": {
          "base_uri": "https://localhost:8080/"
        },
        "id": "XU7fLrXiWwaw",
        "outputId": "15d39ed8-cff6-4ff2-b9c5-f5bfc84d7890"
      },
      "execution_count": 73,
      "outputs": [
        {
          "output_type": "stream",
          "name": "stdout",
          "text": [
            "+--------+--------------+----------+---------+\n",
            "|iso_code|      location|      date|new_cases|\n",
            "+--------+--------------+----------+---------+\n",
            "|OWID_WRL|         World|2020-03-31|  76845.0|\n",
            "|OWID_EUR|        Europe|2020-03-31|  36809.0|\n",
            "|OWID_EUN|European Union|2020-03-31|  30412.0|\n",
            "|OWID_NAM| North America|2020-03-31|  28016.0|\n",
            "|     USA| United States|2020-03-31|  26314.0|\n",
            "|OWID_ASI|          Asia|2020-03-31|   8983.0|\n",
            "|     ESP|         Spain|2020-03-31|   7967.0|\n",
            "|     FRA|        France|2020-03-31|   7629.0|\n",
            "|     DEU|       Germany|2020-03-31|   4923.0|\n",
            "|     GBR|United Kingdom|2020-03-31|   4534.0|\n",
            "|     ITA|         Italy|2020-03-31|   4053.0|\n",
            "|     IRN|          Iran|2020-03-31|   3110.0|\n",
            "|     TUR|        Turkey|2020-03-31|   2704.0|\n",
            "|OWID_SAM| South America|2020-03-31|   2196.0|\n",
            "|     BRA|        Brazil|2020-03-31|   1138.0|\n",
            "|     CAN|        Canada|2020-03-31|   1129.0|\n",
            "|     PRT|      Portugal|2020-03-31|   1035.0|\n",
            "|     BEL|       Belgium|2020-03-31|    876.0|\n",
            "|     NLD|   Netherlands|2020-03-31|    850.0|\n",
            "|     ISR|        Israel|2020-03-31|    738.0|\n",
            "+--------+--------------+----------+---------+\n",
            "only showing top 20 rows\n",
            "\n"
          ]
        }
      ]
    },
    {
      "cell_type": "markdown",
      "metadata": {
        "id": "06_FPg0slRAq"
      },
      "source": [
        "###Шаг 4: Выбор 15 стран с наибольшим процентом переболевших"
      ]
    },
    {
      "cell_type": "code",
      "source": [
        "total_cases_top_15_df = filtered_df.sort(filtered_df.total_cases.desc()).limit(15)"
      ],
      "metadata": {
        "id": "8A_AmX1hLKhz"
      },
      "execution_count": 21,
      "outputs": []
    },
    {
      "cell_type": "code",
      "source": [
        "total_cases_top_15_df.select(\"iso_code\", \"location\", \"population\", \"total_cases\").show()"
      ],
      "metadata": {
        "colab": {
          "base_uri": "https://localhost:8080/"
        },
        "id": "69LYgjPfMhHA",
        "outputId": "e30b93d3-bfc2-4f58-ea17-2193fa5f5841"
      },
      "execution_count": 22,
      "outputs": [
        {
          "output_type": "stream",
          "name": "stdout",
          "text": [
            "+--------+--------------+-------------+-----------+\n",
            "|iso_code|      location|   population|total_cases|\n",
            "+--------+--------------+-------------+-----------+\n",
            "|OWID_WRL|         World|7.794798729E9|   875794.0|\n",
            "|OWID_EUR|        Europe| 7.48680069E8|   465241.0|\n",
            "|OWID_EUN|European Union|  4.4491906E8|   397713.0|\n",
            "|OWID_NAM| North America| 5.92072204E8|   205321.0|\n",
            "|     USA| United States| 3.31002647E8|   192301.0|\n",
            "|OWID_ASI|          Asia|4.639847425E9|   179033.0|\n",
            "|     ITA|         Italy|  6.0461828E7|   105792.0|\n",
            "|     ESP|         Spain|  4.6754783E7|    95923.0|\n",
            "|     CHN|         China|1.439323774E9|    82279.0|\n",
            "|     DEU|       Germany|  8.3783945E7|    71808.0|\n",
            "|     FRA|        France|  6.8147687E7|    52278.0|\n",
            "|     IRN|          Iran|  8.3992953E7|    44605.0|\n",
            "|     GBR|United Kingdom|  6.7886004E7|    38815.0|\n",
            "|     CHE|   Switzerland|    8654618.0|    16605.0|\n",
            "|OWID_SAM| South America| 4.30759772E8|    14492.0|\n",
            "+--------+--------------+-------------+-----------+\n",
            "\n"
          ]
        }
      ]
    },
    {
      "cell_type": "code",
      "execution_count": 23,
      "metadata": {
        "id": "fTG8asy1xpvk"
      },
      "outputs": [],
      "source": [
        "cases_percent_df = total_cases_top_15_df.withColumn(\"cases_percent\", (total_cases_top_15_df.total_cases * 100)/total_cases_top_15_df.population)"
      ]
    },
    {
      "cell_type": "code",
      "execution_count": 24,
      "metadata": {
        "colab": {
          "base_uri": "https://localhost:8080/"
        },
        "id": "ex-HrY6wzJpk",
        "outputId": "d5a8e519-0dfb-471d-bd13-df9cfe23bf3c"
      },
      "outputs": [
        {
          "output_type": "stream",
          "name": "stdout",
          "text": [
            "+--------+--------------+--------------------+\n",
            "|iso_code|      location|       cases_percent|\n",
            "+--------+--------------+--------------------+\n",
            "|     ESP|         Spain| 0.20516189755388234|\n",
            "|     CHE|   Switzerland| 0.19186288753587968|\n",
            "|     ITA|         Italy|  0.1749732078891164|\n",
            "|OWID_EUN|European Union| 0.08938996679530879|\n",
            "|     DEU|       Germany| 0.08570615766540952|\n",
            "|     FRA|        France| 0.07671280171255115|\n",
            "|OWID_EUR|        Europe| 0.06214149665042038|\n",
            "|     USA| United States|0.058096514255367875|\n",
            "|     GBR|United Kingdom| 0.05717673410265833|\n",
            "|     IRN|          Iran|0.053105645660535356|\n",
            "|OWID_NAM| North America|0.034678371761563055|\n",
            "|OWID_WRL|         World|0.011235620449591213|\n",
            "|     CHN|         China|0.005716503922626098|\n",
            "|OWID_ASI|          Asia|0.003858596708058...|\n",
            "|OWID_SAM| South America|0.003364288158273...|\n",
            "+--------+--------------+--------------------+\n",
            "\n"
          ]
        }
      ],
      "source": [
        "cases_percent_df = cases_percent_df.select(\"iso_code\", \"location\", \"cases_percent\").orderBy(cases_percent_df.cases_percent.desc()).show(15)"
      ]
    },
    {
      "cell_type": "markdown",
      "metadata": {
        "id": "cxOjLAyJGVng"
      },
      "source": [
        "###Шаг 5: Выбор 10 стран с максимальным зафиксированным количеством новых случаев за последнюю неделю марта 2021"
      ]
    },
    {
      "cell_type": "code",
      "execution_count": 84,
      "metadata": {
        "id": "Btsu8tYXRzCW"
      },
      "outputs": [],
      "source": [
        "from pyspark.sql.window import Window\n",
        "from pyspark.sql.functions import lag, max"
      ]
    },
    {
      "cell_type": "code",
      "execution_count": 26,
      "metadata": {
        "id": "jal4_J8PHMVv",
        "colab": {
          "base_uri": "https://localhost:8080/"
        },
        "outputId": "5b3d2c1d-deea-421a-f5b0-e7cf57666cb1"
      },
      "outputs": [
        {
          "output_type": "execute_result",
          "data": {
            "text/plain": [
              "1927"
            ]
          },
          "metadata": {},
          "execution_count": 26
        }
      ],
      "source": [
        "# Фильтруем данные за последнюю неделю марта 2021\n",
        "df_march_21 = df.filter((col(\"date\") >= \"2021-03-23\") & (col(\"date\") <= \"2021-03-31\"))\n",
        "df_march_21.count()"
      ]
    },
    {
      "cell_type": "code",
      "source": [
        "# Определение окна, которое делит данные по location\n",
        "window_spec = Window.partitionBy(\"location\")\n",
        "\n",
        "# Добавление новой колонки с максимальным значением в каждой группе\n",
        "df_top_10_locs = df_march_21.withColumn(\"max_new_cases\", max(\"new_cases\").over(window_spec))\n",
        "\n",
        "# Вывод результатов\n",
        "df_top_10_locs = df_top_10_locs.select(\"date\", \"location\", \"max_new_cases\").filter(\"iso_code NOT LIKE '%OWID%'\")\n",
        "# Выше также отфильтровали iso_code 'OWID_', предоставляющий данные в разрезе континентального и мирового масштаба\n",
        "df_top_10_locs = df_top_10_locs.filter(col(\"new_cases\") == col(\"max_new_cases\")).orderBy(df_top_10_locs.max_new_cases.desc()) # Здесь не применяем join, в разрезе задачи это можно не делать\n",
        "df_top_10_locs.show(10)"
      ],
      "metadata": {
        "id": "5SJvP5yWdIfa",
        "outputId": "07567066-4f4d-48ae-aa76-713501a71181",
        "colab": {
          "base_uri": "https://localhost:8080/"
        }
      },
      "execution_count": 104,
      "outputs": [
        {
          "output_type": "stream",
          "name": "stdout",
          "text": [
            "+----------+-------------+-------------+\n",
            "|      date|     location|max_new_cases|\n",
            "+----------+-------------+-------------+\n",
            "|2021-03-25|       Brazil|     100158.0|\n",
            "|2021-03-24|United States|      86960.0|\n",
            "|2021-03-31|        India|      72330.0|\n",
            "|2021-03-24|       France|      65392.0|\n",
            "|2021-03-31|       Turkey|      39302.0|\n",
            "|2021-03-26|       Poland|      35145.0|\n",
            "|2021-03-31|      Germany|      25014.0|\n",
            "|2021-03-26|        Italy|      24076.0|\n",
            "|2021-03-25|         Peru|      19206.0|\n",
            "|2021-03-26|      Ukraine|      18226.0|\n",
            "+----------+-------------+-------------+\n",
            "only showing top 10 rows\n",
            "\n"
          ]
        }
      ]
    },
    {
      "cell_type": "markdown",
      "metadata": {
        "id": "3_smX0yRNE9B"
      },
      "source": [
        "###Шаг 6: Изменение случаев относительно предыдущего дня в России за последнюю неделю марта 2021"
      ]
    },
    {
      "cell_type": "code",
      "execution_count": 59,
      "metadata": {
        "colab": {
          "base_uri": "https://localhost:8080/"
        },
        "id": "DdpEgTcIQVEo",
        "outputId": "7945855f-7d27-46fc-fbfe-5ed83c2a9ec9"
      },
      "outputs": [
        {
          "output_type": "stream",
          "name": "stdout",
          "text": [
            "+--------+----------+-------+\n",
            "|iso_code|      date|  cases|\n",
            "+--------+----------+-------+\n",
            "|     RUS|2021-03-24| 8769.0|\n",
            "|     RUS|2020-02-04|    0.0|\n",
            "|     RUS|2020-09-17| 5667.0|\n",
            "|     RUS|2020-04-28| 6411.0|\n",
            "|     RUS|2020-11-06|20368.0|\n",
            "+--------+----------+-------+\n",
            "only showing top 5 rows\n",
            "\n"
          ]
        }
      ],
      "source": [
        "# Группируем данные по дате и подсчитываем новые случаи\n",
        "daily_cases = df.filter(col(\"iso_code\") == \"RUS\").groupBy(\"iso_code\", \"date\").agg(sum(\"new_cases\").alias(\"cases\"))\n",
        "daily_cases.show(5)"
      ]
    },
    {
      "cell_type": "code",
      "execution_count": 60,
      "metadata": {
        "colab": {
          "base_uri": "https://localhost:8080/"
        },
        "id": "syjSRahEQXkh",
        "outputId": "19935e40-dc55-4150-ea9d-28bad050a3a3"
      },
      "outputs": [
        {
          "output_type": "stream",
          "name": "stdout",
          "text": [
            "+--------+----------+-----+--------+\n",
            "|iso_code|      date|cases|prev_day|\n",
            "+--------+----------+-----+--------+\n",
            "|     RUS|2020-01-31|  2.0|    NULL|\n",
            "|     RUS|2020-02-01|  0.0|     2.0|\n",
            "|     RUS|2020-02-02|  0.0|     0.0|\n",
            "|     RUS|2020-02-03|  0.0|     0.0|\n",
            "|     RUS|2020-02-04|  0.0|     0.0|\n",
            "+--------+----------+-----+--------+\n",
            "only showing top 5 rows\n",
            "\n"
          ]
        }
      ],
      "source": [
        "# Преобразуем данные в DataFrame с колонками для каждого дня\n",
        "daily_cases_df = daily_cases.withColumn(\"prev_day\", lag(col(\"cases\"), 1).over(Window.orderBy(\"date\")))\n",
        "daily_cases_df.show(5)"
      ]
    },
    {
      "cell_type": "code",
      "execution_count": 63,
      "metadata": {
        "colab": {
          "base_uri": "https://localhost:8080/"
        },
        "id": "7jrlRPaPQaH4",
        "outputId": "ff339318-a65c-4c4c-8fc9-15b748215c09"
      },
      "outputs": [
        {
          "output_type": "stream",
          "name": "stdout",
          "text": [
            "+--------+----------+------+--------+------+\n",
            "|iso_code|      date| cases|prev_day| delta|\n",
            "+--------+----------+------+--------+------+\n",
            "|     RUS|2021-03-23|8369.0|  9195.0|-826.0|\n",
            "|     RUS|2021-03-24|8769.0|  8369.0| 400.0|\n",
            "|     RUS|2021-03-25|9128.0|  8769.0| 359.0|\n",
            "|     RUS|2021-03-26|9073.0|  9128.0| -55.0|\n",
            "|     RUS|2021-03-27|8783.0|  9073.0|-290.0|\n",
            "+--------+----------+------+--------+------+\n",
            "only showing top 5 rows\n",
            "\n"
          ]
        }
      ],
      "source": [
        "# Вычисляем изменение случаев\n",
        "delta_cases_rus = daily_cases_df.withColumn(\"delta\", col(\"cases\") - col(\"prev_day\")).filter((col(\"date\") >= \"2021-03-23\") & (col(\"date\") <= \"2021-03-31\"))\n",
        "delta_cases_rus.show(5)"
      ]
    },
    {
      "cell_type": "code",
      "execution_count": 64,
      "metadata": {
        "colab": {
          "base_uri": "https://localhost:8080/"
        },
        "id": "-ToqgNBtQfEB",
        "outputId": "a276b6bd-6fe8-4883-d1ce-dcc9c9adf952"
      },
      "outputs": [
        {
          "output_type": "stream",
          "name": "stdout",
          "text": [
            "+----------+------+------+\n",
            "|      date| cases| delta|\n",
            "+----------+------+------+\n",
            "|2021-03-23|8369.0|-826.0|\n",
            "|2021-03-24|8769.0| 400.0|\n",
            "|2021-03-25|9128.0| 359.0|\n",
            "|2021-03-26|9073.0| -55.0|\n",
            "|2021-03-27|8783.0|-290.0|\n",
            "|2021-03-28|8979.0| 196.0|\n",
            "|2021-03-29|8589.0|-390.0|\n",
            "|2021-03-30|8162.0|-427.0|\n",
            "|2021-03-31|8156.0|  -6.0|\n",
            "+----------+------+------+\n",
            "\n"
          ]
        }
      ],
      "source": [
        "# Выводим результат\n",
        "delta_cases_rus.select(\"date\", \"cases\", \"delta\").orderBy(\"date\").show()"
      ]
    }
  ],
  "metadata": {
    "colab": {
      "provenance": [],
      "include_colab_link": true
    },
    "kernelspec": {
      "display_name": "Python 3",
      "name": "python3"
    },
    "language_info": {
      "codemirror_mode": {
        "name": "ipython",
        "version": 3
      },
      "file_extension": ".py",
      "mimetype": "text/x-python",
      "name": "python",
      "nbconvert_exporter": "python",
      "pygments_lexer": "ipython3",
      "version": "3.12.1"
    }
  },
  "nbformat": 4,
  "nbformat_minor": 0
}