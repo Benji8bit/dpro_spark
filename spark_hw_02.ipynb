{
  "cells": [
    {
      "cell_type": "markdown",
      "metadata": {
        "id": "view-in-github",
        "colab_type": "text"
      },
      "source": [
        "<a href=\"https://colab.research.google.com/github/Benji8bit/dpro_spark/blob/main/spark_hw_02.ipynb\" target=\"_parent\"><img src=\"https://colab.research.google.com/assets/colab-badge.svg\" alt=\"Open In Colab\"/></a>"
      ]
    },
    {
      "cell_type": "markdown",
      "metadata": {
        "id": "e7hFASkVb-Hs"
      },
      "source": [
        "###Шаг 1: Импорт необходимых библиотек и создание Spark Session"
      ]
    },
    {
      "cell_type": "code",
      "execution_count": 2,
      "metadata": {
        "colab": {
          "base_uri": "https://localhost:8080/"
        },
        "id": "uspOEcCkcIMV",
        "outputId": "470c2e21-7031-4e77-abac-dfb2457d5612"
      },
      "outputs": [
        {
          "output_type": "stream",
          "name": "stdout",
          "text": [
            "Requirement already satisfied: pyspark in /usr/local/lib/python3.10/dist-packages (3.5.3)\n",
            "Requirement already satisfied: py4j==0.10.9.7 in /usr/local/lib/python3.10/dist-packages (from pyspark) (0.10.9.7)\n"
          ]
        }
      ],
      "source": [
        "pip install pyspark"
      ]
    },
    {
      "cell_type": "code",
      "execution_count": 3,
      "metadata": {
        "id": "j0ruZxEpb_NU"
      },
      "outputs": [],
      "source": [
        "from pyspark.sql import SparkSession\n",
        "from pyspark.sql.functions import col, lit, sum, datediff, to_date, when\n",
        "\n",
        "# Создаем Spark Session\n",
        "spark = SparkSession.builder.appName(\"COVID-19 Analysis\").getOrCreate()"
      ]
    },
    {
      "cell_type": "markdown",
      "metadata": {
        "id": "ls05cTnKceKC"
      },
      "source": [
        "### Шаг 2: Загрузка данных\n",
        "У нас есть CSV-файл с данными о COVID-19. Загрузим его в DataFrame:"
      ]
    },
    {
      "cell_type": "code",
      "execution_count": 4,
      "metadata": {
        "id": "5N0WZl5CcirK"
      },
      "outputs": [],
      "source": [
        "# Файл называется 'covid-data.csv' и находится в той же директории\n",
        "df = spark.read.csv('covid-data.csv', header=True, inferSchema=True)"
      ]
    },
    {
      "cell_type": "code",
      "execution_count": 5,
      "metadata": {
        "colab": {
          "base_uri": "https://localhost:8080/"
        },
        "id": "zToLcepLk1W_",
        "outputId": "69677e35-6e1a-4089-e125-12f2fca3efa6"
      },
      "outputs": [
        {
          "output_type": "stream",
          "name": "stdout",
          "text": [
            "+--------+---------+-----------+----------+-----------+---------+------------------+------------+----------+-------------------+-----------------------+---------------------+------------------------------+------------------------+----------------------+-------------------------------+-----------------+------------+------------------------+-------------+-------------------------+---------------------+---------------------------------+----------------------+----------------------------------+---------+-----------+------------------------+----------------------+------------------+-------------------------------+-------------+--------------+-----------+------------------+-----------------+-----------------------+----------------+-------------------------+------------------------------+-----------------------------+-----------------------------------+-------------------------------------+----------------+-----------+------------------+----------+-------------+-------------+--------------+---------------+---------------------+-------------------+--------------+------------+----------------------+--------------------------+---------------+-----------------------+\n",
            "|iso_code|continent|   location|      date|total_cases|new_cases|new_cases_smoothed|total_deaths|new_deaths|new_deaths_smoothed|total_cases_per_million|new_cases_per_million|new_cases_smoothed_per_million|total_deaths_per_million|new_deaths_per_million|new_deaths_smoothed_per_million|reproduction_rate|icu_patients|icu_patients_per_million|hosp_patients|hosp_patients_per_million|weekly_icu_admissions|weekly_icu_admissions_per_million|weekly_hosp_admissions|weekly_hosp_admissions_per_million|new_tests|total_tests|total_tests_per_thousand|new_tests_per_thousand|new_tests_smoothed|new_tests_smoothed_per_thousand|positive_rate|tests_per_case|tests_units|total_vaccinations|people_vaccinated|people_fully_vaccinated|new_vaccinations|new_vaccinations_smoothed|total_vaccinations_per_hundred|people_vaccinated_per_hundred|people_fully_vaccinated_per_hundred|new_vaccinations_smoothed_per_million|stringency_index| population|population_density|median_age|aged_65_older|aged_70_older|gdp_per_capita|extreme_poverty|cardiovasc_death_rate|diabetes_prevalence|female_smokers|male_smokers|handwashing_facilities|hospital_beds_per_thousand|life_expectancy|human_development_index|\n",
            "+--------+---------+-----------+----------+-----------+---------+------------------+------------+----------+-------------------+-----------------------+---------------------+------------------------------+------------------------+----------------------+-------------------------------+-----------------+------------+------------------------+-------------+-------------------------+---------------------+---------------------------------+----------------------+----------------------------------+---------+-----------+------------------------+----------------------+------------------+-------------------------------+-------------+--------------+-----------+------------------+-----------------+-----------------------+----------------+-------------------------+------------------------------+-----------------------------+-----------------------------------+-------------------------------------+----------------+-----------+------------------+----------+-------------+-------------+--------------+---------------+---------------------+-------------------+--------------+------------+----------------------+--------------------------+---------------+-----------------------+\n",
            "|     AFG|     Asia|Afghanistan|2020-02-24|        1.0|      1.0|              NULL|        NULL|      NULL|               NULL|                  0.026|                0.026|                          NULL|                    NULL|                  NULL|                           NULL|             NULL|        NULL|                    NULL|         NULL|                     NULL|                 NULL|                             NULL|                  NULL|                              NULL|     NULL|       NULL|                    NULL|                  NULL|              NULL|                           NULL|         NULL|          NULL|       NULL|              NULL|             NULL|                   NULL|            NULL|                     NULL|                          NULL|                         NULL|                               NULL|                                 NULL|            8.33|3.8928341E7|            54.422|      18.6|        2.581|        1.337|      1803.987|           NULL|              597.029|               9.59|          NULL|        NULL|                37.746|                       0.5|          64.83|                  0.511|\n",
            "|     AFG|     Asia|Afghanistan|2020-02-25|        1.0|      0.0|              NULL|        NULL|      NULL|               NULL|                  0.026|                  0.0|                          NULL|                    NULL|                  NULL|                           NULL|             NULL|        NULL|                    NULL|         NULL|                     NULL|                 NULL|                             NULL|                  NULL|                              NULL|     NULL|       NULL|                    NULL|                  NULL|              NULL|                           NULL|         NULL|          NULL|       NULL|              NULL|             NULL|                   NULL|            NULL|                     NULL|                          NULL|                         NULL|                               NULL|                                 NULL|            8.33|3.8928341E7|            54.422|      18.6|        2.581|        1.337|      1803.987|           NULL|              597.029|               9.59|          NULL|        NULL|                37.746|                       0.5|          64.83|                  0.511|\n",
            "|     AFG|     Asia|Afghanistan|2020-02-26|        1.0|      0.0|              NULL|        NULL|      NULL|               NULL|                  0.026|                  0.0|                          NULL|                    NULL|                  NULL|                           NULL|             NULL|        NULL|                    NULL|         NULL|                     NULL|                 NULL|                             NULL|                  NULL|                              NULL|     NULL|       NULL|                    NULL|                  NULL|              NULL|                           NULL|         NULL|          NULL|       NULL|              NULL|             NULL|                   NULL|            NULL|                     NULL|                          NULL|                         NULL|                               NULL|                                 NULL|            8.33|3.8928341E7|            54.422|      18.6|        2.581|        1.337|      1803.987|           NULL|              597.029|               9.59|          NULL|        NULL|                37.746|                       0.5|          64.83|                  0.511|\n",
            "|     AFG|     Asia|Afghanistan|2020-02-27|        1.0|      0.0|              NULL|        NULL|      NULL|               NULL|                  0.026|                  0.0|                          NULL|                    NULL|                  NULL|                           NULL|             NULL|        NULL|                    NULL|         NULL|                     NULL|                 NULL|                             NULL|                  NULL|                              NULL|     NULL|       NULL|                    NULL|                  NULL|              NULL|                           NULL|         NULL|          NULL|       NULL|              NULL|             NULL|                   NULL|            NULL|                     NULL|                          NULL|                         NULL|                               NULL|                                 NULL|            8.33|3.8928341E7|            54.422|      18.6|        2.581|        1.337|      1803.987|           NULL|              597.029|               9.59|          NULL|        NULL|                37.746|                       0.5|          64.83|                  0.511|\n",
            "|     AFG|     Asia|Afghanistan|2020-02-28|        1.0|      0.0|              NULL|        NULL|      NULL|               NULL|                  0.026|                  0.0|                          NULL|                    NULL|                  NULL|                           NULL|             NULL|        NULL|                    NULL|         NULL|                     NULL|                 NULL|                             NULL|                  NULL|                              NULL|     NULL|       NULL|                    NULL|                  NULL|              NULL|                           NULL|         NULL|          NULL|       NULL|              NULL|             NULL|                   NULL|            NULL|                     NULL|                          NULL|                         NULL|                               NULL|                                 NULL|            8.33|3.8928341E7|            54.422|      18.6|        2.581|        1.337|      1803.987|           NULL|              597.029|               9.59|          NULL|        NULL|                37.746|                       0.5|          64.83|                  0.511|\n",
            "+--------+---------+-----------+----------+-----------+---------+------------------+------------+----------+-------------------+-----------------------+---------------------+------------------------------+------------------------+----------------------+-------------------------------+-----------------+------------+------------------------+-------------+-------------------------+---------------------+---------------------------------+----------------------+----------------------------------+---------+-----------+------------------------+----------------------+------------------+-------------------------------+-------------+--------------+-----------+------------------+-----------------+-----------------------+----------------+-------------------------+------------------------------+-----------------------------+-----------------------------------+-------------------------------------+----------------+-----------+------------------+----------+-------------+-------------+--------------+---------------+---------------------+-------------------+--------------+------------+----------------------+--------------------------+---------------+-----------------------+\n",
            "only showing top 5 rows\n",
            "\n"
          ]
        }
      ],
      "source": [
        "df.show(5)"
      ]
    },
    {
      "cell_type": "code",
      "execution_count": 6,
      "metadata": {
        "collapsed": true,
        "id": "KznBbveGqRkE",
        "outputId": "e4a24ffe-1bf3-482f-d3a4-a7cd1edefb55",
        "colab": {
          "base_uri": "https://localhost:8080/"
        }
      },
      "outputs": [
        {
          "output_type": "stream",
          "name": "stdout",
          "text": [
            "root\n",
            " |-- iso_code: string (nullable = true)\n",
            " |-- continent: string (nullable = true)\n",
            " |-- location: string (nullable = true)\n",
            " |-- date: date (nullable = true)\n",
            " |-- total_cases: double (nullable = true)\n",
            " |-- new_cases: double (nullable = true)\n",
            " |-- new_cases_smoothed: double (nullable = true)\n",
            " |-- total_deaths: double (nullable = true)\n",
            " |-- new_deaths: double (nullable = true)\n",
            " |-- new_deaths_smoothed: double (nullable = true)\n",
            " |-- total_cases_per_million: double (nullable = true)\n",
            " |-- new_cases_per_million: double (nullable = true)\n",
            " |-- new_cases_smoothed_per_million: double (nullable = true)\n",
            " |-- total_deaths_per_million: double (nullable = true)\n",
            " |-- new_deaths_per_million: double (nullable = true)\n",
            " |-- new_deaths_smoothed_per_million: double (nullable = true)\n",
            " |-- reproduction_rate: double (nullable = true)\n",
            " |-- icu_patients: double (nullable = true)\n",
            " |-- icu_patients_per_million: double (nullable = true)\n",
            " |-- hosp_patients: double (nullable = true)\n",
            " |-- hosp_patients_per_million: double (nullable = true)\n",
            " |-- weekly_icu_admissions: double (nullable = true)\n",
            " |-- weekly_icu_admissions_per_million: double (nullable = true)\n",
            " |-- weekly_hosp_admissions: double (nullable = true)\n",
            " |-- weekly_hosp_admissions_per_million: double (nullable = true)\n",
            " |-- new_tests: double (nullable = true)\n",
            " |-- total_tests: double (nullable = true)\n",
            " |-- total_tests_per_thousand: double (nullable = true)\n",
            " |-- new_tests_per_thousand: double (nullable = true)\n",
            " |-- new_tests_smoothed: double (nullable = true)\n",
            " |-- new_tests_smoothed_per_thousand: double (nullable = true)\n",
            " |-- positive_rate: double (nullable = true)\n",
            " |-- tests_per_case: double (nullable = true)\n",
            " |-- tests_units: string (nullable = true)\n",
            " |-- total_vaccinations: double (nullable = true)\n",
            " |-- people_vaccinated: double (nullable = true)\n",
            " |-- people_fully_vaccinated: double (nullable = true)\n",
            " |-- new_vaccinations: double (nullable = true)\n",
            " |-- new_vaccinations_smoothed: double (nullable = true)\n",
            " |-- total_vaccinations_per_hundred: double (nullable = true)\n",
            " |-- people_vaccinated_per_hundred: double (nullable = true)\n",
            " |-- people_fully_vaccinated_per_hundred: double (nullable = true)\n",
            " |-- new_vaccinations_smoothed_per_million: double (nullable = true)\n",
            " |-- stringency_index: double (nullable = true)\n",
            " |-- population: double (nullable = true)\n",
            " |-- population_density: double (nullable = true)\n",
            " |-- median_age: double (nullable = true)\n",
            " |-- aged_65_older: double (nullable = true)\n",
            " |-- aged_70_older: double (nullable = true)\n",
            " |-- gdp_per_capita: double (nullable = true)\n",
            " |-- extreme_poverty: double (nullable = true)\n",
            " |-- cardiovasc_death_rate: double (nullable = true)\n",
            " |-- diabetes_prevalence: double (nullable = true)\n",
            " |-- female_smokers: double (nullable = true)\n",
            " |-- male_smokers: double (nullable = true)\n",
            " |-- handwashing_facilities: double (nullable = true)\n",
            " |-- hospital_beds_per_thousand: double (nullable = true)\n",
            " |-- life_expectancy: double (nullable = true)\n",
            " |-- human_development_index: double (nullable = true)\n",
            "\n"
          ]
        }
      ],
      "source": [
        "df.printSchema()"
      ]
    },
    {
      "cell_type": "markdown",
      "metadata": {
        "id": "QQrNTYhZjseL"
      },
      "source": [
        "###Шаг 3: Подготовка данных\n",
        "Отфильтруем датасет по дате"
      ]
    },
    {
      "cell_type": "code",
      "execution_count": 7,
      "metadata": {
        "colab": {
          "base_uri": "https://localhost:8080/"
        },
        "id": "cM_q-1q0ktA5",
        "outputId": "958a0a57-b55e-46bf-ee70-cd6295681da0"
      },
      "outputs": [
        {
          "output_type": "execute_result",
          "data": {
            "text/plain": [
              "82289"
            ]
          },
          "metadata": {},
          "execution_count": 7
        }
      ],
      "source": [
        "df.count()"
      ]
    },
    {
      "cell_type": "code",
      "execution_count": 8,
      "metadata": {
        "colab": {
          "base_uri": "https://localhost:8080/"
        },
        "id": "rZ7ylkrxk0Ix",
        "outputId": "3fa5c689-592e-44ba-e661-2e22a4d21986"
      },
      "outputs": [
        {
          "output_type": "execute_result",
          "data": {
            "text/plain": [
              "202"
            ]
          },
          "metadata": {},
          "execution_count": 8
        }
      ],
      "source": [
        "filtered_df = df.filter(col(\"date\") == lit(\"2021-03-31\")).filter(\"iso_code NOT LIKE '%OWID%'\")\n",
        "filtered_df.count()"
      ]
    },
    {
      "cell_type": "code",
      "source": [
        "filtered_df.select(\"iso_code\", \"location\", \"date\", \"new_cases\").orderBy(col(\"new_cases\").desc()).show()"
      ],
      "metadata": {
        "colab": {
          "base_uri": "https://localhost:8080/"
        },
        "id": "XU7fLrXiWwaw",
        "outputId": "d2eddd59-c0a9-4b75-ba14-0e11ba3db0ba"
      },
      "execution_count": 9,
      "outputs": [
        {
          "output_type": "stream",
          "name": "stdout",
          "text": [
            "+--------+-------------+----------+---------+\n",
            "|iso_code|     location|      date|new_cases|\n",
            "+--------+-------------+----------+---------+\n",
            "|     BRA|       Brazil|2021-03-31|  90638.0|\n",
            "|     IND|        India|2021-03-31|  72330.0|\n",
            "|     USA|United States|2021-03-31|  67039.0|\n",
            "|     FRA|       France|2021-03-31|  59054.0|\n",
            "|     TUR|       Turkey|2021-03-31|  39302.0|\n",
            "|     POL|       Poland|2021-03-31|  32891.0|\n",
            "|     DEU|      Germany|2021-03-31|  25014.0|\n",
            "|     ITA|        Italy|2021-03-31|  23887.0|\n",
            "|     ARG|    Argentina|2021-03-31|  16056.0|\n",
            "|     PER|         Peru|2021-03-31|  15686.0|\n",
            "|     UKR|      Ukraine|2021-03-31|  11345.0|\n",
            "|     IRN|         Iran|2021-03-31|  10330.0|\n",
            "|     CAN|       Canada|2021-03-31|   8728.0|\n",
            "|     CZE|      Czechia|2021-03-31|   8664.0|\n",
            "|     COL|     Colombia|2021-03-31|   8646.0|\n",
            "|     ESP|        Spain|2021-03-31|   8534.0|\n",
            "|     SWE|       Sweden|2021-03-31|   8441.0|\n",
            "|     NLD|  Netherlands|2021-03-31|   8221.0|\n",
            "|     RUS|       Russia|2021-03-31|   8156.0|\n",
            "|     HUN|      Hungary|2021-03-31|   6700.0|\n",
            "+--------+-------------+----------+---------+\n",
            "only showing top 20 rows\n",
            "\n"
          ]
        }
      ]
    },
    {
      "cell_type": "markdown",
      "metadata": {
        "id": "06_FPg0slRAq"
      },
      "source": [
        "###Шаг 4: Выбор 15 стран с наибольшим процентом переболевших"
      ]
    },
    {
      "cell_type": "code",
      "source": [
        "total_cases_top_15_df = filtered_df.sort(filtered_df.total_cases.desc()).limit(15)"
      ],
      "metadata": {
        "id": "8A_AmX1hLKhz"
      },
      "execution_count": 10,
      "outputs": []
    },
    {
      "cell_type": "code",
      "source": [
        "total_cases_top_15_df.select(\"iso_code\", \"location\", \"population\", \"total_cases\").show()"
      ],
      "metadata": {
        "colab": {
          "base_uri": "https://localhost:8080/"
        },
        "id": "69LYgjPfMhHA",
        "outputId": "7104c092-73a3-4d13-cc2c-1c1e14eca34a"
      },
      "execution_count": 11,
      "outputs": [
        {
          "output_type": "stream",
          "name": "stdout",
          "text": [
            "+--------+--------------+-------------+-----------+\n",
            "|iso_code|      location|   population|total_cases|\n",
            "+--------+--------------+-------------+-----------+\n",
            "|     USA| United States| 3.31002647E8| 3.046221E7|\n",
            "|     BRA|        Brazil| 2.12559409E8|1.2748747E7|\n",
            "|     IND|         India|1.380004385E9|1.2221665E7|\n",
            "|     FRA|        France|  6.8147687E7|  4705068.0|\n",
            "|     RUS|        Russia|  1.4593446E8|  4494234.0|\n",
            "|     GBR|United Kingdom|  6.7886004E7|  4359982.0|\n",
            "|     ITA|         Italy|  6.0461828E7|  3584899.0|\n",
            "|     TUR|        Turkey|  8.4339067E7|  3317182.0|\n",
            "|     ESP|         Spain|  4.6754783E7|  3284353.0|\n",
            "|     DEU|       Germany|  8.3783945E7|  2843644.0|\n",
            "|     COL|      Colombia|  5.0882884E7|  2406377.0|\n",
            "|     ARG|     Argentina|  4.5195777E7|  2348821.0|\n",
            "|     POL|        Poland|  3.7846605E7|  2321717.0|\n",
            "|     MEX|        Mexico| 1.28932753E8|  2238887.0|\n",
            "|     IRN|          Iran|  8.3992953E7|  1885564.0|\n",
            "+--------+--------------+-------------+-----------+\n",
            "\n"
          ]
        }
      ]
    },
    {
      "cell_type": "code",
      "execution_count": 12,
      "metadata": {
        "id": "fTG8asy1xpvk"
      },
      "outputs": [],
      "source": [
        "cases_percent_df = total_cases_top_15_df.withColumn(\"cases_percent\", (total_cases_top_15_df.total_cases * 100)/total_cases_top_15_df.population)"
      ]
    },
    {
      "cell_type": "code",
      "execution_count": 13,
      "metadata": {
        "colab": {
          "base_uri": "https://localhost:8080/"
        },
        "id": "ex-HrY6wzJpk",
        "outputId": "a696614d-023b-4986-d967-9619b9486788"
      },
      "outputs": [
        {
          "output_type": "stream",
          "name": "stdout",
          "text": [
            "+--------+--------------+------------------+\n",
            "|iso_code|      location|     cases_percent|\n",
            "+--------+--------------+------------------+\n",
            "|     USA| United States| 9.203010995860707|\n",
            "|     ESP|         Spain|  7.02463531912874|\n",
            "|     FRA|        France| 6.904222589388837|\n",
            "|     GBR|United Kingdom| 6.422504998232037|\n",
            "|     POL|        Poland| 6.134544961166266|\n",
            "|     BRA|        Brazil| 5.997733555986693|\n",
            "|     ITA|         Italy| 5.929193870883295|\n",
            "|     ARG|     Argentina|  5.19699218800907|\n",
            "|     COL|      Colombia| 4.729246479032124|\n",
            "|     TUR|        Turkey|3.9331499837435953|\n",
            "|     DEU|       Germany| 3.394020178925688|\n",
            "|     RUS|        Russia|  3.07962492203692|\n",
            "|     IRN|          Iran| 2.244907379313119|\n",
            "|     MEX|        Mexico|1.7364765336236945|\n",
            "|     IND|         India|0.8856250844449309|\n",
            "+--------+--------------+------------------+\n",
            "\n"
          ]
        }
      ],
      "source": [
        "cases_percent_df = cases_percent_df.select(\"iso_code\", \"location\", \"cases_percent\").orderBy(cases_percent_df.cases_percent.desc()).show(15)"
      ]
    },
    {
      "cell_type": "markdown",
      "metadata": {
        "id": "cxOjLAyJGVng"
      },
      "source": [
        "###Шаг 5: Выбор 10 стран с максимальным зафиксированным количеством новых случаев за последнюю неделю марта 2021"
      ]
    },
    {
      "cell_type": "code",
      "execution_count": 14,
      "metadata": {
        "id": "Btsu8tYXRzCW"
      },
      "outputs": [],
      "source": [
        "from pyspark.sql.window import Window\n",
        "from pyspark.sql.functions import lag, max"
      ]
    },
    {
      "cell_type": "code",
      "execution_count": 15,
      "metadata": {
        "id": "jal4_J8PHMVv",
        "colab": {
          "base_uri": "https://localhost:8080/"
        },
        "outputId": "d29865a5-0abf-45fd-80d0-083f04e91b3b"
      },
      "outputs": [
        {
          "output_type": "execute_result",
          "data": {
            "text/plain": [
              "1927"
            ]
          },
          "metadata": {},
          "execution_count": 15
        }
      ],
      "source": [
        "# Фильтруем данные за последнюю неделю марта 2021\n",
        "df_march_21 = df.filter((col(\"date\") >= \"2021-03-23\") & (col(\"date\") <= \"2021-03-31\"))\n",
        "df_march_21.count()"
      ]
    },
    {
      "cell_type": "code",
      "source": [
        "# Определение окна, которое делит данные по location\n",
        "window_spec = Window.partitionBy(\"location\")\n",
        "\n",
        "# Добавление новой колонки с максимальным значением в каждой группе\n",
        "df_top_10_locs = df_march_21.withColumn(\"max_new_cases\", max(\"new_cases\").over(window_spec))\n",
        "\n",
        "# Вывод результатов\n",
        "df_top_10_locs = df_top_10_locs.select(\"date\", \"location\", \"max_new_cases\").filter(\"iso_code NOT LIKE '%OWID%'\")\n",
        "# Выше также отфильтровали iso_code 'OWID_', предоставляющий данные в разрезе континентального и мирового масштаба\n",
        "df_top_10_locs = df_top_10_locs.filter(col(\"new_cases\") == col(\"max_new_cases\")).orderBy(df_top_10_locs.max_new_cases.desc())\n",
        "df_top_10_locs.show(10)"
      ],
      "metadata": {
        "colab": {
          "base_uri": "https://localhost:8080/"
        },
        "id": "5SJvP5yWdIfa",
        "outputId": "86e507cc-bbf8-498e-bab4-e1a3a7419685"
      },
      "execution_count": 16,
      "outputs": [
        {
          "output_type": "stream",
          "name": "stdout",
          "text": [
            "+----------+-------------+-------------+\n",
            "|      date|     location|max_new_cases|\n",
            "+----------+-------------+-------------+\n",
            "|2021-03-25|       Brazil|     100158.0|\n",
            "|2021-03-24|United States|      86960.0|\n",
            "|2021-03-31|        India|      72330.0|\n",
            "|2021-03-24|       France|      65392.0|\n",
            "|2021-03-31|       Turkey|      39302.0|\n",
            "|2021-03-26|       Poland|      35145.0|\n",
            "|2021-03-31|      Germany|      25014.0|\n",
            "|2021-03-26|        Italy|      24076.0|\n",
            "|2021-03-25|         Peru|      19206.0|\n",
            "|2021-03-26|      Ukraine|      18226.0|\n",
            "+----------+-------------+-------------+\n",
            "only showing top 10 rows\n",
            "\n"
          ]
        }
      ]
    },
    {
      "cell_type": "markdown",
      "metadata": {
        "id": "3_smX0yRNE9B"
      },
      "source": [
        "###Шаг 6: Изменение случаев относительно предыдущего дня в России за последнюю неделю марта 2021"
      ]
    },
    {
      "cell_type": "code",
      "execution_count": 17,
      "metadata": {
        "colab": {
          "base_uri": "https://localhost:8080/"
        },
        "id": "DdpEgTcIQVEo",
        "outputId": "f91f1331-96fd-439a-d3d8-2e4ec0928124"
      },
      "outputs": [
        {
          "output_type": "stream",
          "name": "stdout",
          "text": [
            "+--------+----------+-------+\n",
            "|iso_code|      date|  cases|\n",
            "+--------+----------+-------+\n",
            "|     RUS|2021-03-24| 8769.0|\n",
            "|     RUS|2020-02-04|    0.0|\n",
            "|     RUS|2020-09-17| 5667.0|\n",
            "|     RUS|2020-04-28| 6411.0|\n",
            "|     RUS|2020-11-06|20368.0|\n",
            "+--------+----------+-------+\n",
            "only showing top 5 rows\n",
            "\n"
          ]
        }
      ],
      "source": [
        "# Группируем данные по дате и подсчитываем новые случаи\n",
        "daily_cases = df.filter(col(\"iso_code\") == \"RUS\").groupBy(\"iso_code\", \"date\").agg(sum(\"new_cases\").alias(\"cases\"))\n",
        "daily_cases.show(5)"
      ]
    },
    {
      "cell_type": "code",
      "execution_count": 18,
      "metadata": {
        "colab": {
          "base_uri": "https://localhost:8080/"
        },
        "id": "syjSRahEQXkh",
        "outputId": "e1552351-fddd-4856-f4a1-9db403634df6"
      },
      "outputs": [
        {
          "output_type": "stream",
          "name": "stdout",
          "text": [
            "+--------+----------+-----+--------+\n",
            "|iso_code|      date|cases|prev_day|\n",
            "+--------+----------+-----+--------+\n",
            "|     RUS|2020-01-31|  2.0|    NULL|\n",
            "|     RUS|2020-02-01|  0.0|     2.0|\n",
            "|     RUS|2020-02-02|  0.0|     0.0|\n",
            "|     RUS|2020-02-03|  0.0|     0.0|\n",
            "|     RUS|2020-02-04|  0.0|     0.0|\n",
            "+--------+----------+-----+--------+\n",
            "only showing top 5 rows\n",
            "\n"
          ]
        }
      ],
      "source": [
        "# Преобразуем данные в DataFrame с колонками для каждого дня\n",
        "daily_cases_df = daily_cases.withColumn(\"prev_day\", lag(col(\"cases\"), 1).over(Window.orderBy(\"date\")))\n",
        "daily_cases_df.show(5)"
      ]
    },
    {
      "cell_type": "code",
      "execution_count": 19,
      "metadata": {
        "colab": {
          "base_uri": "https://localhost:8080/"
        },
        "id": "7jrlRPaPQaH4",
        "outputId": "8309b7f9-dd94-40aa-dc8b-9825e3ad476e"
      },
      "outputs": [
        {
          "output_type": "stream",
          "name": "stdout",
          "text": [
            "+--------+----------+------+--------+------+\n",
            "|iso_code|      date| cases|prev_day| delta|\n",
            "+--------+----------+------+--------+------+\n",
            "|     RUS|2021-03-23|8369.0|  9195.0|-826.0|\n",
            "|     RUS|2021-03-24|8769.0|  8369.0| 400.0|\n",
            "|     RUS|2021-03-25|9128.0|  8769.0| 359.0|\n",
            "|     RUS|2021-03-26|9073.0|  9128.0| -55.0|\n",
            "|     RUS|2021-03-27|8783.0|  9073.0|-290.0|\n",
            "+--------+----------+------+--------+------+\n",
            "only showing top 5 rows\n",
            "\n"
          ]
        }
      ],
      "source": [
        "# Вычисляем изменение случаев\n",
        "delta_cases_rus = daily_cases_df.withColumn(\"delta\", col(\"cases\") - col(\"prev_day\")).filter((col(\"date\") >= \"2021-03-23\") & (col(\"date\") <= \"2021-03-31\"))\n",
        "delta_cases_rus.show(5)"
      ]
    },
    {
      "cell_type": "code",
      "execution_count": 20,
      "metadata": {
        "colab": {
          "base_uri": "https://localhost:8080/"
        },
        "id": "-ToqgNBtQfEB",
        "outputId": "f311150f-3f4e-4a0e-d7c2-bdcf467b5ed4"
      },
      "outputs": [
        {
          "output_type": "stream",
          "name": "stdout",
          "text": [
            "+----------+------+------+\n",
            "|      date| cases| delta|\n",
            "+----------+------+------+\n",
            "|2021-03-23|8369.0|-826.0|\n",
            "|2021-03-24|8769.0| 400.0|\n",
            "|2021-03-25|9128.0| 359.0|\n",
            "|2021-03-26|9073.0| -55.0|\n",
            "|2021-03-27|8783.0|-290.0|\n",
            "|2021-03-28|8979.0| 196.0|\n",
            "|2021-03-29|8589.0|-390.0|\n",
            "|2021-03-30|8162.0|-427.0|\n",
            "|2021-03-31|8156.0|  -6.0|\n",
            "+----------+------+------+\n",
            "\n"
          ]
        }
      ],
      "source": [
        "# Выводим результат\n",
        "delta_cases_rus.select(\"date\", \"cases\", \"delta\").orderBy(\"date\").show()"
      ]
    }
  ],
  "metadata": {
    "colab": {
      "provenance": [],
      "include_colab_link": true
    },
    "kernelspec": {
      "display_name": "Python 3",
      "name": "python3"
    },
    "language_info": {
      "codemirror_mode": {
        "name": "ipython",
        "version": 3
      },
      "file_extension": ".py",
      "mimetype": "text/x-python",
      "name": "python",
      "nbconvert_exporter": "python",
      "pygments_lexer": "ipython3",
      "version": "3.12.1"
    }
  },
  "nbformat": 4,
  "nbformat_minor": 0
}