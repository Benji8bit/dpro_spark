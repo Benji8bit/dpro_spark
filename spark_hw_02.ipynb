{
  "nbformat": 4,
  "nbformat_minor": 0,
  "metadata": {
    "colab": {
      "provenance": [],
      "authorship_tag": "ABX9TyNxwduqp3rRIbgJ8Szbv7Xg",
      "include_colab_link": true
    },
    "kernelspec": {
      "name": "python3",
      "display_name": "Python 3"
    },
    "language_info": {
      "name": "python"
    }
  },
  "cells": [
    {
      "cell_type": "markdown",
      "metadata": {
        "id": "view-in-github",
        "colab_type": "text"
      },
      "source": [
        "<a href=\"https://colab.research.google.com/github/Benji8bit/dpro_spark/blob/main/spark_hw_02.ipynb\" target=\"_parent\"><img src=\"https://colab.research.google.com/assets/colab-badge.svg\" alt=\"Open In Colab\"/></a>"
      ]
    },
    {
      "cell_type": "markdown",
      "source": [
        "###Шаг 1: Импорт необходимых библиотек и создание Spark Session"
      ],
      "metadata": {
        "id": "e7hFASkVb-Hs"
      }
    },
    {
      "cell_type": "code",
      "source": [
        "pip install pyspark"
      ],
      "metadata": {
        "colab": {
          "base_uri": "https://localhost:8080/"
        },
        "id": "uspOEcCkcIMV",
        "outputId": "7fe0a458-32e3-4aef-aec2-b6d615eab9d7"
      },
      "execution_count": 1,
      "outputs": [
        {
          "output_type": "stream",
          "name": "stdout",
          "text": [
            "Collecting pyspark\n",
            "  Downloading pyspark-3.5.3.tar.gz (317.3 MB)\n",
            "\u001b[2K     \u001b[90m━━━━━━━━━━━━━━━━━━━━━━━━━━━━━━━━━━━━━━━━\u001b[0m \u001b[32m317.3/317.3 MB\u001b[0m \u001b[31m4.9 MB/s\u001b[0m eta \u001b[36m0:00:00\u001b[0m\n",
            "\u001b[?25h  Preparing metadata (setup.py) ... \u001b[?25l\u001b[?25hdone\n",
            "Requirement already satisfied: py4j==0.10.9.7 in /usr/local/lib/python3.10/dist-packages (from pyspark) (0.10.9.7)\n",
            "Building wheels for collected packages: pyspark\n",
            "  Building wheel for pyspark (setup.py) ... \u001b[?25l\u001b[?25hdone\n",
            "  Created wheel for pyspark: filename=pyspark-3.5.3-py2.py3-none-any.whl size=317840625 sha256=8fa83eb20df0a793bd74cdd771856122962438c0c921b2514439a775a63847b9\n",
            "  Stored in directory: /root/.cache/pip/wheels/1b/3a/92/28b93e2fbfdbb07509ca4d6f50c5e407f48dce4ddbda69a4ab\n",
            "Successfully built pyspark\n",
            "Installing collected packages: pyspark\n",
            "Successfully installed pyspark-3.5.3\n"
          ]
        }
      ]
    },
    {
      "cell_type": "code",
      "source": [
        "from pyspark.sql import SparkSession\n",
        "from pyspark.sql.functions import col, lit, sum, datediff, to_date, when\n",
        "\n",
        "# Создаем Spark Session\n",
        "spark = SparkSession.builder.appName(\"COVID-19 Analysis\").getOrCreate()"
      ],
      "metadata": {
        "id": "j0ruZxEpb_NU"
      },
      "execution_count": 2,
      "outputs": []
    },
    {
      "cell_type": "markdown",
      "source": [
        "### Шаг 2: Загрузка данных\n",
        "У нас есть CSV-файл с данными о COVID-19. Загрузим его в DataFrame:"
      ],
      "metadata": {
        "id": "ls05cTnKceKC"
      }
    },
    {
      "cell_type": "code",
      "source": [
        "# Файл называется 'covid-data.csv' и находится в той же директории\n",
        "df = spark.read.csv('covid-data.csv', header=True, inferSchema=True)"
      ],
      "metadata": {
        "id": "5N0WZl5CcirK"
      },
      "execution_count": 3,
      "outputs": []
    },
    {
      "cell_type": "code",
      "source": [
        "df.show(5)"
      ],
      "metadata": {
        "colab": {
          "base_uri": "https://localhost:8080/"
        },
        "id": "zToLcepLk1W_",
        "outputId": "903d4e9b-6bce-496a-ec0b-04c0230787fc"
      },
      "execution_count": 4,
      "outputs": [
        {
          "output_type": "stream",
          "name": "stdout",
          "text": [
            "+--------+---------+-----------+----------+-----------+---------+------------------+------------+----------+-------------------+-----------------------+---------------------+------------------------------+------------------------+----------------------+-------------------------------+-----------------+------------+------------------------+-------------+-------------------------+---------------------+---------------------------------+----------------------+----------------------------------+---------+-----------+------------------------+----------------------+------------------+-------------------------------+-------------+--------------+-----------+------------------+-----------------+-----------------------+----------------+-------------------------+------------------------------+-----------------------------+-----------------------------------+-------------------------------------+----------------+-----------+------------------+----------+-------------+-------------+--------------+---------------+---------------------+-------------------+--------------+------------+----------------------+--------------------------+---------------+-----------------------+\n",
            "|iso_code|continent|   location|      date|total_cases|new_cases|new_cases_smoothed|total_deaths|new_deaths|new_deaths_smoothed|total_cases_per_million|new_cases_per_million|new_cases_smoothed_per_million|total_deaths_per_million|new_deaths_per_million|new_deaths_smoothed_per_million|reproduction_rate|icu_patients|icu_patients_per_million|hosp_patients|hosp_patients_per_million|weekly_icu_admissions|weekly_icu_admissions_per_million|weekly_hosp_admissions|weekly_hosp_admissions_per_million|new_tests|total_tests|total_tests_per_thousand|new_tests_per_thousand|new_tests_smoothed|new_tests_smoothed_per_thousand|positive_rate|tests_per_case|tests_units|total_vaccinations|people_vaccinated|people_fully_vaccinated|new_vaccinations|new_vaccinations_smoothed|total_vaccinations_per_hundred|people_vaccinated_per_hundred|people_fully_vaccinated_per_hundred|new_vaccinations_smoothed_per_million|stringency_index| population|population_density|median_age|aged_65_older|aged_70_older|gdp_per_capita|extreme_poverty|cardiovasc_death_rate|diabetes_prevalence|female_smokers|male_smokers|handwashing_facilities|hospital_beds_per_thousand|life_expectancy|human_development_index|\n",
            "+--------+---------+-----------+----------+-----------+---------+------------------+------------+----------+-------------------+-----------------------+---------------------+------------------------------+------------------------+----------------------+-------------------------------+-----------------+------------+------------------------+-------------+-------------------------+---------------------+---------------------------------+----------------------+----------------------------------+---------+-----------+------------------------+----------------------+------------------+-------------------------------+-------------+--------------+-----------+------------------+-----------------+-----------------------+----------------+-------------------------+------------------------------+-----------------------------+-----------------------------------+-------------------------------------+----------------+-----------+------------------+----------+-------------+-------------+--------------+---------------+---------------------+-------------------+--------------+------------+----------------------+--------------------------+---------------+-----------------------+\n",
            "|     AFG|     Asia|Afghanistan|2020-02-24|        1.0|      1.0|              NULL|        NULL|      NULL|               NULL|                  0.026|                0.026|                          NULL|                    NULL|                  NULL|                           NULL|             NULL|        NULL|                    NULL|         NULL|                     NULL|                 NULL|                             NULL|                  NULL|                              NULL|     NULL|       NULL|                    NULL|                  NULL|              NULL|                           NULL|         NULL|          NULL|       NULL|              NULL|             NULL|                   NULL|            NULL|                     NULL|                          NULL|                         NULL|                               NULL|                                 NULL|            8.33|3.8928341E7|            54.422|      18.6|        2.581|        1.337|      1803.987|           NULL|              597.029|               9.59|          NULL|        NULL|                37.746|                       0.5|          64.83|                  0.511|\n",
            "|     AFG|     Asia|Afghanistan|2020-02-25|        1.0|      0.0|              NULL|        NULL|      NULL|               NULL|                  0.026|                  0.0|                          NULL|                    NULL|                  NULL|                           NULL|             NULL|        NULL|                    NULL|         NULL|                     NULL|                 NULL|                             NULL|                  NULL|                              NULL|     NULL|       NULL|                    NULL|                  NULL|              NULL|                           NULL|         NULL|          NULL|       NULL|              NULL|             NULL|                   NULL|            NULL|                     NULL|                          NULL|                         NULL|                               NULL|                                 NULL|            8.33|3.8928341E7|            54.422|      18.6|        2.581|        1.337|      1803.987|           NULL|              597.029|               9.59|          NULL|        NULL|                37.746|                       0.5|          64.83|                  0.511|\n",
            "|     AFG|     Asia|Afghanistan|2020-02-26|        1.0|      0.0|              NULL|        NULL|      NULL|               NULL|                  0.026|                  0.0|                          NULL|                    NULL|                  NULL|                           NULL|             NULL|        NULL|                    NULL|         NULL|                     NULL|                 NULL|                             NULL|                  NULL|                              NULL|     NULL|       NULL|                    NULL|                  NULL|              NULL|                           NULL|         NULL|          NULL|       NULL|              NULL|             NULL|                   NULL|            NULL|                     NULL|                          NULL|                         NULL|                               NULL|                                 NULL|            8.33|3.8928341E7|            54.422|      18.6|        2.581|        1.337|      1803.987|           NULL|              597.029|               9.59|          NULL|        NULL|                37.746|                       0.5|          64.83|                  0.511|\n",
            "|     AFG|     Asia|Afghanistan|2020-02-27|        1.0|      0.0|              NULL|        NULL|      NULL|               NULL|                  0.026|                  0.0|                          NULL|                    NULL|                  NULL|                           NULL|             NULL|        NULL|                    NULL|         NULL|                     NULL|                 NULL|                             NULL|                  NULL|                              NULL|     NULL|       NULL|                    NULL|                  NULL|              NULL|                           NULL|         NULL|          NULL|       NULL|              NULL|             NULL|                   NULL|            NULL|                     NULL|                          NULL|                         NULL|                               NULL|                                 NULL|            8.33|3.8928341E7|            54.422|      18.6|        2.581|        1.337|      1803.987|           NULL|              597.029|               9.59|          NULL|        NULL|                37.746|                       0.5|          64.83|                  0.511|\n",
            "|     AFG|     Asia|Afghanistan|2020-02-28|        1.0|      0.0|              NULL|        NULL|      NULL|               NULL|                  0.026|                  0.0|                          NULL|                    NULL|                  NULL|                           NULL|             NULL|        NULL|                    NULL|         NULL|                     NULL|                 NULL|                             NULL|                  NULL|                              NULL|     NULL|       NULL|                    NULL|                  NULL|              NULL|                           NULL|         NULL|          NULL|       NULL|              NULL|             NULL|                   NULL|            NULL|                     NULL|                          NULL|                         NULL|                               NULL|                                 NULL|            8.33|3.8928341E7|            54.422|      18.6|        2.581|        1.337|      1803.987|           NULL|              597.029|               9.59|          NULL|        NULL|                37.746|                       0.5|          64.83|                  0.511|\n",
            "+--------+---------+-----------+----------+-----------+---------+------------------+------------+----------+-------------------+-----------------------+---------------------+------------------------------+------------------------+----------------------+-------------------------------+-----------------+------------+------------------------+-------------+-------------------------+---------------------+---------------------------------+----------------------+----------------------------------+---------+-----------+------------------------+----------------------+------------------+-------------------------------+-------------+--------------+-----------+------------------+-----------------+-----------------------+----------------+-------------------------+------------------------------+-----------------------------+-----------------------------------+-------------------------------------+----------------+-----------+------------------+----------+-------------+-------------+--------------+---------------+---------------------+-------------------+--------------+------------+----------------------+--------------------------+---------------+-----------------------+\n",
            "only showing top 5 rows\n",
            "\n"
          ]
        }
      ]
    },
    {
      "cell_type": "code",
      "source": [
        "df.printSchema()"
      ],
      "metadata": {
        "id": "KznBbveGqRkE",
        "colab": {
          "base_uri": "https://localhost:8080/"
        },
        "collapsed": true,
        "outputId": "db6ad901-67dd-4d6a-e800-58f3fbd79772"
      },
      "execution_count": 5,
      "outputs": [
        {
          "output_type": "stream",
          "name": "stdout",
          "text": [
            "root\n",
            " |-- iso_code: string (nullable = true)\n",
            " |-- continent: string (nullable = true)\n",
            " |-- location: string (nullable = true)\n",
            " |-- date: date (nullable = true)\n",
            " |-- total_cases: double (nullable = true)\n",
            " |-- new_cases: double (nullable = true)\n",
            " |-- new_cases_smoothed: double (nullable = true)\n",
            " |-- total_deaths: double (nullable = true)\n",
            " |-- new_deaths: double (nullable = true)\n",
            " |-- new_deaths_smoothed: double (nullable = true)\n",
            " |-- total_cases_per_million: double (nullable = true)\n",
            " |-- new_cases_per_million: double (nullable = true)\n",
            " |-- new_cases_smoothed_per_million: double (nullable = true)\n",
            " |-- total_deaths_per_million: double (nullable = true)\n",
            " |-- new_deaths_per_million: double (nullable = true)\n",
            " |-- new_deaths_smoothed_per_million: double (nullable = true)\n",
            " |-- reproduction_rate: double (nullable = true)\n",
            " |-- icu_patients: double (nullable = true)\n",
            " |-- icu_patients_per_million: double (nullable = true)\n",
            " |-- hosp_patients: double (nullable = true)\n",
            " |-- hosp_patients_per_million: double (nullable = true)\n",
            " |-- weekly_icu_admissions: double (nullable = true)\n",
            " |-- weekly_icu_admissions_per_million: double (nullable = true)\n",
            " |-- weekly_hosp_admissions: double (nullable = true)\n",
            " |-- weekly_hosp_admissions_per_million: double (nullable = true)\n",
            " |-- new_tests: double (nullable = true)\n",
            " |-- total_tests: double (nullable = true)\n",
            " |-- total_tests_per_thousand: double (nullable = true)\n",
            " |-- new_tests_per_thousand: double (nullable = true)\n",
            " |-- new_tests_smoothed: double (nullable = true)\n",
            " |-- new_tests_smoothed_per_thousand: double (nullable = true)\n",
            " |-- positive_rate: double (nullable = true)\n",
            " |-- tests_per_case: double (nullable = true)\n",
            " |-- tests_units: string (nullable = true)\n",
            " |-- total_vaccinations: double (nullable = true)\n",
            " |-- people_vaccinated: double (nullable = true)\n",
            " |-- people_fully_vaccinated: double (nullable = true)\n",
            " |-- new_vaccinations: double (nullable = true)\n",
            " |-- new_vaccinations_smoothed: double (nullable = true)\n",
            " |-- total_vaccinations_per_hundred: double (nullable = true)\n",
            " |-- people_vaccinated_per_hundred: double (nullable = true)\n",
            " |-- people_fully_vaccinated_per_hundred: double (nullable = true)\n",
            " |-- new_vaccinations_smoothed_per_million: double (nullable = true)\n",
            " |-- stringency_index: double (nullable = true)\n",
            " |-- population: double (nullable = true)\n",
            " |-- population_density: double (nullable = true)\n",
            " |-- median_age: double (nullable = true)\n",
            " |-- aged_65_older: double (nullable = true)\n",
            " |-- aged_70_older: double (nullable = true)\n",
            " |-- gdp_per_capita: double (nullable = true)\n",
            " |-- extreme_poverty: double (nullable = true)\n",
            " |-- cardiovasc_death_rate: double (nullable = true)\n",
            " |-- diabetes_prevalence: double (nullable = true)\n",
            " |-- female_smokers: double (nullable = true)\n",
            " |-- male_smokers: double (nullable = true)\n",
            " |-- handwashing_facilities: double (nullable = true)\n",
            " |-- hospital_beds_per_thousand: double (nullable = true)\n",
            " |-- life_expectancy: double (nullable = true)\n",
            " |-- human_development_index: double (nullable = true)\n",
            "\n"
          ]
        }
      ]
    },
    {
      "cell_type": "markdown",
      "source": [
        "###Шаг 3: Подготовка данных\n",
        "Отфильтруем датасет по дате"
      ],
      "metadata": {
        "id": "QQrNTYhZjseL"
      }
    },
    {
      "cell_type": "code",
      "source": [
        "df.count()"
      ],
      "metadata": {
        "colab": {
          "base_uri": "https://localhost:8080/"
        },
        "id": "cM_q-1q0ktA5",
        "outputId": "e94002a3-ac4c-47f6-ea38-73b22427d551"
      },
      "execution_count": 6,
      "outputs": [
        {
          "output_type": "execute_result",
          "data": {
            "text/plain": [
              "82289"
            ]
          },
          "metadata": {},
          "execution_count": 6
        }
      ]
    },
    {
      "cell_type": "code",
      "source": [
        "filtered_df = df.filter(col(\"date\") <= lit(\"2020-03-31\"))\n",
        "filtered_df.count()"
      ],
      "metadata": {
        "colab": {
          "base_uri": "https://localhost:8080/"
        },
        "id": "rZ7ylkrxk0Ix",
        "outputId": "1c9dc8e4-c3b3-4f1e-dfd0-124ffc04bff2"
      },
      "execution_count": 7,
      "outputs": [
        {
          "output_type": "execute_result",
          "data": {
            "text/plain": [
              "6252"
            ]
          },
          "metadata": {},
          "execution_count": 7
        }
      ]
    },
    {
      "cell_type": "markdown",
      "source": [
        "###Шаг 4: Выбор 15 стран с наибольшим процентом переболевших"
      ],
      "metadata": {
        "id": "06_FPg0slRAq"
      }
    },
    {
      "cell_type": "code",
      "source": [
        "# Группируем данные по стране и дате\n",
        "grouped_df = filtered_df.groupBy(\"iso_code\", \"location\", \"population\")"
      ],
      "metadata": {
        "id": "V7Lq7C-wlWQa"
      },
      "execution_count": 8,
      "outputs": []
    },
    {
      "cell_type": "code",
      "source": [
        "# Подсчитываем общее количество случаев заболевания\n",
        "total_cases_df = grouped_df.agg(sum(\"total_cases\").alias(\"total_cases_by_country\"))\n",
        "\n",
        "total_cases_df = total_cases_df.sort(\"total_cases_by_country\")"
      ],
      "metadata": {
        "id": "QvftgI7Klfnt"
      },
      "execution_count": 9,
      "outputs": []
    },
    {
      "cell_type": "code",
      "source": [
        "total_cases_df.sort(total_cases_df.total_cases_by_country.desc()).show(10)"
      ],
      "metadata": {
        "colab": {
          "base_uri": "https://localhost:8080/"
        },
        "id": "dJxWh0I-o-ph",
        "outputId": "73565084-41cf-41bd-df0d-805b243854fc"
      },
      "execution_count": 10,
      "outputs": [
        {
          "output_type": "stream",
          "name": "stdout",
          "text": [
            "+--------+--------------+-------------+----------------------+\n",
            "|iso_code|      location|   population|total_cases_by_country|\n",
            "+--------+--------------+-------------+----------------------+\n",
            "|OWID_WRL|         World|7.794798729E9|           1.0767888E7|\n",
            "|OWID_ASI|          Asia|4.639847425E9|             5287364.0|\n",
            "|     CHN|         China|1.439323774E9|             4186795.0|\n",
            "|OWID_EUR|        Europe| 7.48680069E8|             4067030.0|\n",
            "|OWID_EUN|European Union|  4.4491906E8|             3523793.0|\n",
            "|     ITA|         Italy|  6.0461828E7|             1213740.0|\n",
            "|OWID_NAM| North America| 5.92072204E8|             1201658.0|\n",
            "|     USA| United States| 3.31002647E8|             1120565.0|\n",
            "|     ESP|         Spain|  4.6754783E7|              742697.0|\n",
            "|     DEU|       Germany|  8.3783945E7|              588758.0|\n",
            "+--------+--------------+-------------+----------------------+\n",
            "only showing top 10 rows\n",
            "\n"
          ]
        }
      ]
    },
    {
      "cell_type": "code",
      "source": [
        "cases_percent_df = total_cases_df.withColumn(\"cases_percent\", (total_cases_df.total_cases_by_country * 100)/total_cases_df.population)"
      ],
      "metadata": {
        "id": "fTG8asy1xpvk"
      },
      "execution_count": 11,
      "outputs": []
    },
    {
      "cell_type": "code",
      "source": [
        "cases_percent_df = cases_percent_df.select(\"iso_code\", \"location\", \"cases_percent\").orderBy(cases_percent_df.cases_percent.desc()).show(15)"
      ],
      "metadata": {
        "colab": {
          "base_uri": "https://localhost:8080/"
        },
        "id": "ex-HrY6wzJpk",
        "outputId": "de126818-68f6-45bc-87a8-226cd286bffb"
      },
      "execution_count": 12,
      "outputs": [
        {
          "output_type": "stream",
          "name": "stdout",
          "text": [
            "+--------+--------------+------------------+\n",
            "|iso_code|      location|     cases_percent|\n",
            "+--------+--------------+------------------+\n",
            "|     SMR|    San Marino| 10.20684778124816|\n",
            "|     VAT|       Vatican| 7.169344870210136|\n",
            "|     AND|       Andorra|3.6070665890118425|\n",
            "|     ISL|       Iceland| 3.311355311355311|\n",
            "|     LUX|    Luxembourg|  2.74930668268432|\n",
            "|     ITA|         Italy| 2.007448401990095|\n",
            "|     LIE| Liechtenstein|1.8197550934787738|\n",
            "|     CHE|   Switzerland|1.7925343440923678|\n",
            "|     ESP|         Spain| 1.588494165399078|\n",
            "|     MCO|        Monaco|1.1059015390887779|\n",
            "|     NOR|        Norway|0.9494318829522829|\n",
            "|     AUT|       Austria|0.9417858411796056|\n",
            "|OWID_EUN|European Union|0.7920076519086415|\n",
            "|     BEL|       Belgium|0.7682308024700732|\n",
            "|     DEU|       Germany|0.7027098091406414|\n",
            "+--------+--------------+------------------+\n",
            "only showing top 15 rows\n",
            "\n"
          ]
        }
      ]
    },
    {
      "cell_type": "markdown",
      "source": [
        "###Шаг 5: Выбор 10 стран с максимальным зафиксированным количеством новых случаев за последнюю неделю марта 2021"
      ],
      "metadata": {
        "id": "cxOjLAyJGVng"
      }
    },
    {
      "cell_type": "code",
      "source": [
        "# Фильтруем данные за последнюю неделю марта 2021\n",
        "df_march_21 = df.filter((col(\"date\") >= \"2021-03-23\") & (col(\"date\") <= \"2021-03-31\"))"
      ],
      "metadata": {
        "id": "jal4_J8PHMVv"
      },
      "execution_count": 14,
      "outputs": []
    },
    {
      "cell_type": "code",
      "source": [
        "# Группируем данные по стране и подсчитываем новые случаи\n",
        "new_cases = df_march_21.groupBy(\"iso_code\", \"location\").agg(sum(\"new_cases\").alias(\"total_new_cases\"))"
      ],
      "metadata": {
        "id": "XBpUzALkHh5D"
      },
      "execution_count": 17,
      "outputs": []
    },
    {
      "cell_type": "code",
      "source": [
        "# Находим страны с максимальным количеством новых случаев\n",
        "top_10_countries = new_cases.orderBy(new_cases.total_new_cases.desc()).limit(10)"
      ],
      "metadata": {
        "id": "BsKrsA50HxcN"
      },
      "execution_count": 19,
      "outputs": []
    },
    {
      "cell_type": "code",
      "source": [
        "# Выводим результат\n",
        "top_10_countries.select(\"location\", \"total_new_cases\").show()"
      ],
      "metadata": {
        "colab": {
          "base_uri": "https://localhost:8080/"
        },
        "id": "JL_SJaI8Hz6t",
        "outputId": "056c1307-2200-4633-a0c3-ccc5751603ff"
      },
      "execution_count": 20,
      "outputs": [
        {
          "output_type": "stream",
          "name": "stdout",
          "text": [
            "+--------------+---------------+\n",
            "|      location|total_new_cases|\n",
            "+--------------+---------------+\n",
            "|         World|      5204960.0|\n",
            "|        Europe|      1909681.0|\n",
            "|European Union|      1529997.0|\n",
            "|          Asia|      1405330.0|\n",
            "| South America|      1074115.0|\n",
            "| North America|       711840.0|\n",
            "|        Brazil|       701221.0|\n",
            "| United States|       588863.0|\n",
            "|         India|       534869.0|\n",
            "|        France|       346158.0|\n",
            "+--------------+---------------+\n",
            "\n"
          ]
        }
      ]
    },
    {
      "cell_type": "markdown",
      "source": [
        "###Шаг 6: Изменение случаев относительно предыдущего дня в России за последнюю неделю марта 2021"
      ],
      "metadata": {
        "id": "3_smX0yRNE9B"
      }
    },
    {
      "cell_type": "code",
      "source": [
        "from pyspark.sql.window import Window\n",
        "from pyspark.sql.functions import lag"
      ],
      "metadata": {
        "id": "Btsu8tYXRzCW"
      },
      "execution_count": 34,
      "outputs": []
    },
    {
      "cell_type": "code",
      "source": [
        "# Фильтруем данные за последнюю неделю марта 2021\n",
        "df_march_21 = df.filter((col(\"date\") >= \"2021-03-23\") & (col(\"date\") <= \"2021-03-31\")).filter(col(\"iso_code\") == \"RUS\")\n",
        "df_march_21.show(5)"
      ],
      "metadata": {
        "colab": {
          "base_uri": "https://localhost:8080/"
        },
        "id": "QvAL7dJQNUbj",
        "outputId": "c3caf259-3d5b-4928-9b5f-ea0a02bf9f4d"
      },
      "execution_count": 50,
      "outputs": [
        {
          "output_type": "stream",
          "name": "stdout",
          "text": [
            "+--------+---------+--------+----------+-----------+---------+------------------+------------+----------+-------------------+-----------------------+---------------------+------------------------------+------------------------+----------------------+-------------------------------+-----------------+------------+------------------------+-------------+-------------------------+---------------------+---------------------------------+----------------------+----------------------------------+---------+------------+------------------------+----------------------+------------------+-------------------------------+-------------+--------------+---------------+------------------+-----------------+-----------------------+----------------+-------------------------+------------------------------+-----------------------------+-----------------------------------+-------------------------------------+----------------+-----------+------------------+----------+-------------+-------------+--------------+---------------+---------------------+-------------------+--------------+------------+----------------------+--------------------------+---------------+-----------------------+\n",
            "|iso_code|continent|location|      date|total_cases|new_cases|new_cases_smoothed|total_deaths|new_deaths|new_deaths_smoothed|total_cases_per_million|new_cases_per_million|new_cases_smoothed_per_million|total_deaths_per_million|new_deaths_per_million|new_deaths_smoothed_per_million|reproduction_rate|icu_patients|icu_patients_per_million|hosp_patients|hosp_patients_per_million|weekly_icu_admissions|weekly_icu_admissions_per_million|weekly_hosp_admissions|weekly_hosp_admissions_per_million|new_tests| total_tests|total_tests_per_thousand|new_tests_per_thousand|new_tests_smoothed|new_tests_smoothed_per_thousand|positive_rate|tests_per_case|    tests_units|total_vaccinations|people_vaccinated|people_fully_vaccinated|new_vaccinations|new_vaccinations_smoothed|total_vaccinations_per_hundred|people_vaccinated_per_hundred|people_fully_vaccinated_per_hundred|new_vaccinations_smoothed_per_million|stringency_index| population|population_density|median_age|aged_65_older|aged_70_older|gdp_per_capita|extreme_poverty|cardiovasc_death_rate|diabetes_prevalence|female_smokers|male_smokers|handwashing_facilities|hospital_beds_per_thousand|life_expectancy|human_development_index|\n",
            "+--------+---------+--------+----------+-----------+---------+------------------+------------+----------+-------------------+-----------------------+---------------------+------------------------------+------------------------+----------------------+-------------------------------+-----------------+------------+------------------------+-------------+-------------------------+---------------------+---------------------------------+----------------------+----------------------------------+---------+------------+------------------------+----------------------+------------------+-------------------------------+-------------+--------------+---------------+------------------+-----------------+-----------------------+----------------+-------------------------+------------------------------+-----------------------------+-----------------------------------+-------------------------------------+----------------+-----------+------------------+----------+-------------+-------------+--------------+---------------+---------------------+-------------------+--------------+------------+----------------------+--------------------------+---------------+-----------------------+\n",
            "|     RUS|   Europe|  Russia|2021-03-23|  4424595.0|   8369.0|          9223.143|     94231.0|     419.0|            405.143|              30319.056|               57.348|                        63.201|                 645.708|                 2.871|                          2.776|             0.95|        NULL|                    NULL|         NULL|                     NULL|                 NULL|                             NULL|                  NULL|                              NULL|     NULL|        NULL|                    NULL|                  NULL|          297480.0|                          2.038|        0.031|          32.3|tests performed|              NULL|             NULL|                   NULL|            NULL|                 182102.0|                          NULL|                         NULL|                               NULL|                               1248.0|           40.28|1.4593446E8|             8.823|      39.6|       14.178|        9.393|     24765.954|            0.1|              431.297|               6.18|          23.4|        58.3|                  NULL|                      8.05|          72.58|                  0.824|\n",
            "|     RUS|   Europe|  Russia|2021-03-24|  4433364.0|   8769.0|            9203.0|     94624.0|     393.0|            401.286|              30379.144|               60.089|                        63.063|                 648.401|                 2.693|                           2.75|             0.95|        NULL|                    NULL|         NULL|                     NULL|                 NULL|                             NULL|                  NULL|                              NULL|     NULL| 1.1850585E8|                 812.048|                  NULL|          297418.0|                          2.038|        0.031|          32.3|tests performed|              NULL|             NULL|                   NULL|            NULL|                 225747.0|                          NULL|                         NULL|                               NULL|                               1547.0|           40.28|1.4593446E8|             8.823|      39.6|       14.178|        9.393|     24765.954|            0.1|              431.297|               6.18|          23.4|        58.3|                  NULL|                      8.05|          72.58|                  0.824|\n",
            "|     RUS|   Europe|  Russia|2021-03-25|  4442492.0|   9128.0|          9119.429|     95010.0|     386.0|              392.0|              30441.693|               62.549|                         62.49|                 651.046|                 2.645|                          2.686|             0.95|        NULL|                    NULL|         NULL|                     NULL|                 NULL|                             NULL|                  NULL|                              NULL| 337695.0|1.18843545E8|                 814.362|                 2.314|          302734.0|                          2.074|         0.03|          33.2|tests performed|              NULL|             NULL|                   NULL|            NULL|                 262004.0|                          NULL|                         NULL|                               NULL|                               1795.0|           40.28|1.4593446E8|             8.823|      39.6|       14.178|        9.393|     24765.954|            0.1|              431.297|               6.18|          23.4|        58.3|                  NULL|                      8.05|          72.58|                  0.824|\n",
            "|     RUS|   Europe|  Russia|2021-03-26|  4451565.0|   9073.0|          9042.429|     95410.0|     400.0|            386.571|              30503.865|               62.172|                        61.962|                 653.787|                 2.741|                          2.649|             0.95|        NULL|                    NULL|         NULL|                     NULL|                 NULL|                             NULL|                  NULL|                              NULL| 341455.0|   1.19185E8|                 816.702|                  2.34|          304012.0|                          2.083|         0.03|          33.6|tests performed|              NULL|             NULL|                   NULL|            NULL|                 271820.0|                          NULL|                         NULL|                               NULL|                               1863.0|           40.28|1.4593446E8|             8.823|      39.6|       14.178|        9.393|     24765.954|            0.1|              431.297|               6.18|          23.4|        58.3|                  NULL|                      8.05|          72.58|                  0.824|\n",
            "|     RUS|   Europe|  Russia|2021-03-27|  4460348.0|   8783.0|          8933.143|     95792.0|     382.0|              386.0|              30564.049|               60.185|                        61.213|                 656.404|                 2.618|                          2.645|             0.95|        NULL|                    NULL|         NULL|                     NULL|                 NULL|                             NULL|                  NULL|                              NULL| 341365.0|1.19526365E8|                 819.041|                 2.339|          305276.0|                          2.092|        0.029|          34.2|tests performed|              NULL|             NULL|                   NULL|            NULL|                 303915.0|                          NULL|                         NULL|                               NULL|                               2083.0|           40.28|1.4593446E8|             8.823|      39.6|       14.178|        9.393|     24765.954|            0.1|              431.297|               6.18|          23.4|        58.3|                  NULL|                      8.05|          72.58|                  0.824|\n",
            "+--------+---------+--------+----------+-----------+---------+------------------+------------+----------+-------------------+-----------------------+---------------------+------------------------------+------------------------+----------------------+-------------------------------+-----------------+------------+------------------------+-------------+-------------------------+---------------------+---------------------------------+----------------------+----------------------------------+---------+------------+------------------------+----------------------+------------------+-------------------------------+-------------+--------------+---------------+------------------+-----------------+-----------------------+----------------+-------------------------+------------------------------+-----------------------------+-----------------------------------+-------------------------------------+----------------+-----------+------------------+----------+-------------+-------------+--------------+---------------+---------------------+-------------------+--------------+------------+----------------------+--------------------------+---------------+-----------------------+\n",
            "only showing top 5 rows\n",
            "\n"
          ]
        }
      ]
    },
    {
      "cell_type": "code",
      "source": [
        "# Группируем данные по дате и подсчитываем новые случаи\n",
        "daily_cases = df_march_21.groupBy(\"iso_code\", \"date\").agg(sum(\"new_cases\").alias(\"cases\"))\n",
        "daily_cases.show(5)"
      ],
      "metadata": {
        "colab": {
          "base_uri": "https://localhost:8080/"
        },
        "id": "DdpEgTcIQVEo",
        "outputId": "f11d1d94-1359-48bb-d81f-db2b22ee8721"
      },
      "execution_count": 51,
      "outputs": [
        {
          "output_type": "stream",
          "name": "stdout",
          "text": [
            "+--------+----------+------+\n",
            "|iso_code|      date| cases|\n",
            "+--------+----------+------+\n",
            "|     RUS|2021-03-24|8769.0|\n",
            "|     RUS|2021-03-28|8979.0|\n",
            "|     RUS|2021-03-27|8783.0|\n",
            "|     RUS|2021-03-30|8162.0|\n",
            "|     RUS|2021-03-25|9128.0|\n",
            "+--------+----------+------+\n",
            "only showing top 5 rows\n",
            "\n"
          ]
        }
      ]
    },
    {
      "cell_type": "code",
      "source": [
        "# Преобразуем данные в DataFrame с колонками для каждого дня\n",
        "daily_cases_df = daily_cases.withColumn(\"prev_day\", lag(col(\"cases\"), 1).over(Window.orderBy(\"date\")))\n",
        "daily_cases_df.show(5)"
      ],
      "metadata": {
        "colab": {
          "base_uri": "https://localhost:8080/"
        },
        "id": "syjSRahEQXkh",
        "outputId": "3ac63ef6-29b8-4b93-d934-e174e8a4c9d3"
      },
      "execution_count": 52,
      "outputs": [
        {
          "output_type": "stream",
          "name": "stdout",
          "text": [
            "+--------+----------+------+--------+\n",
            "|iso_code|      date| cases|prev_day|\n",
            "+--------+----------+------+--------+\n",
            "|     RUS|2021-03-23|8369.0|    NULL|\n",
            "|     RUS|2021-03-24|8769.0|  8369.0|\n",
            "|     RUS|2021-03-25|9128.0|  8769.0|\n",
            "|     RUS|2021-03-26|9073.0|  9128.0|\n",
            "|     RUS|2021-03-27|8783.0|  9073.0|\n",
            "+--------+----------+------+--------+\n",
            "only showing top 5 rows\n",
            "\n"
          ]
        }
      ]
    },
    {
      "cell_type": "code",
      "source": [
        "# Вычисляем изменение случаев\n",
        "delta_cases_rus = daily_cases_df.withColumn(\"delta\", col(\"cases\") - col(\"prev_day\"))\n",
        "delta_cases_rus.show(5)"
      ],
      "metadata": {
        "colab": {
          "base_uri": "https://localhost:8080/"
        },
        "id": "7jrlRPaPQaH4",
        "outputId": "0c3d5766-067b-4f58-bfca-3dabb00bdabd"
      },
      "execution_count": 55,
      "outputs": [
        {
          "output_type": "stream",
          "name": "stdout",
          "text": [
            "+--------+----------+------+--------+------+\n",
            "|iso_code|      date| cases|prev_day| delta|\n",
            "+--------+----------+------+--------+------+\n",
            "|     RUS|2021-03-23|8369.0|    NULL|  NULL|\n",
            "|     RUS|2021-03-24|8769.0|  8369.0| 400.0|\n",
            "|     RUS|2021-03-25|9128.0|  8769.0| 359.0|\n",
            "|     RUS|2021-03-26|9073.0|  9128.0| -55.0|\n",
            "|     RUS|2021-03-27|8783.0|  9073.0|-290.0|\n",
            "+--------+----------+------+--------+------+\n",
            "only showing top 5 rows\n",
            "\n"
          ]
        }
      ]
    },
    {
      "cell_type": "code",
      "source": [
        "# Выводим результат\n",
        "delta_cases_rus.select(\"date\", \"cases\", \"delta\").orderBy(\"date\").show()"
      ],
      "metadata": {
        "colab": {
          "base_uri": "https://localhost:8080/"
        },
        "id": "-ToqgNBtQfEB",
        "outputId": "62e75d09-1362-4d4b-d435-e41556879c4a"
      },
      "execution_count": 56,
      "outputs": [
        {
          "output_type": "stream",
          "name": "stdout",
          "text": [
            "+----------+------+------+\n",
            "|      date| cases| delta|\n",
            "+----------+------+------+\n",
            "|2021-03-23|8369.0|  NULL|\n",
            "|2021-03-24|8769.0| 400.0|\n",
            "|2021-03-25|9128.0| 359.0|\n",
            "|2021-03-26|9073.0| -55.0|\n",
            "|2021-03-27|8783.0|-290.0|\n",
            "|2021-03-28|8979.0| 196.0|\n",
            "|2021-03-29|8589.0|-390.0|\n",
            "|2021-03-30|8162.0|-427.0|\n",
            "|2021-03-31|8156.0|  -6.0|\n",
            "+----------+------+------+\n",
            "\n"
          ]
        }
      ]
    }
  ]
}